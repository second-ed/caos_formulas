{
 "cells": [
  {
   "cell_type": "code",
   "execution_count": 1,
   "metadata": {},
   "outputs": [],
   "source": [
    "from src.machine_code_programs import *"
   ]
  },
  {
   "cell_type": "code",
   "execution_count": 2,
   "metadata": {},
   "outputs": [
    {
     "name": "stdout",
     "output_type": "stream",
     "text": [
      "i = 0 LDI(1, 100)     [0, 100, 0, 0, 0, 0, 0, 0, 0, 0, 0, 0, 0, 0, 0, 0]\n",
      "i = 1 LDI(2, 25)      [0, 100, 25, 0, 0, 0, 0, 0, 0, 0, 0, 0, 0, 0, 0, 0]\n",
      "i = 2 DIV(1, 2, 3)    [0, 100, 25, 4.0, 0, 0, 0, 0, 0, 0, 0, 0, 0, 0, 0, 0]\n"
     ]
    },
    {
     "data": {
      "text/plain": [
       "[0, 100, 25, 4.0, 0, 0, 0, 0, 0, 0, 0, 0, 0, 0, 0, 0]"
      ]
     },
     "execution_count": 2,
     "metadata": {},
     "output_type": "execute_result"
    }
   ],
   "source": [
    "memory = [0 for _ in range(16)]\n",
    "\n",
    "program = [\n",
    "    (LDI, (1, 100)),\n",
    "    (LDI, (2, 25)),\n",
    "    (DIV, (1, 2, 3)),\n",
    "    (HALT, ()),\n",
    "]\n",
    "\n",
    "run_program(program, memory)"
   ]
  },
  {
   "cell_type": "code",
   "execution_count": 4,
   "metadata": {},
   "outputs": [
    {
     "name": "stdout",
     "output_type": "stream",
     "text": [
      "i = 0 LDI(1, 5)       [0, 5, 0, 0, 0, 0, 0, 0, 0, 0, 0, 0, 0, 0, 0, 0]\n",
      "i = 1 LDI(2, 7)       [0, 5, 7, 0, 0, 0, 0, 0, 0, 0, 0, 0, 0, 0, 0, 0]\n",
      "i = 2 LDI(3, 9)       [0, 5, 7, 9, 0, 0, 0, 0, 0, 0, 0, 0, 0, 0, 0, 0]\n",
      "i = 3 ADD(1, 2, 1)    [0, 12, 7, 9, 0, 0, 0, 0, 0, 0, 0, 0, 0, 0, 0, 0]\n",
      "i = 4 ADD(1, 3, 1)    [0, 21, 7, 9, 0, 0, 0, 0, 0, 0, 0, 0, 0, 0, 0, 0]\n",
      "i = 5 LDI(4, 3)       [0, 21, 7, 9, 3, 0, 0, 0, 0, 0, 0, 0, 0, 0, 0, 0]\n",
      "i = 6 DIV(1, 4, 1)    [0, 7.0, 7, 9, 3, 0, 0, 0, 0, 0, 0, 0, 0, 0, 0, 0]\n"
     ]
    },
    {
     "data": {
      "text/plain": [
       "[0, 7.0, 7, 9, 3, 0, 0, 0, 0, 0, 0, 0, 0, 0, 0, 0]"
      ]
     },
     "execution_count": 4,
     "metadata": {},
     "output_type": "execute_result"
    }
   ],
   "source": [
    "memory = [0 for _ in range(16)]\n",
    "\n",
    "program = [\n",
    "    (LDI, (1, 5)),\n",
    "    (LDI, (2, 7)),\n",
    "    (LDI, (3, 9)),\n",
    "    (ADD, (1, 2, 1)),\n",
    "    (ADD, (1, 3, 1)),\n",
    "    (LDI, (4, 3)),\n",
    "    (DIV, (1, 4, 1)),\n",
    "    (HALT, ()),\n",
    "]\n",
    "\n",
    "run_program(program, memory)"
   ]
  },
  {
   "cell_type": "code",
   "execution_count": 5,
   "metadata": {},
   "outputs": [
    {
     "name": "stdout",
     "output_type": "stream",
     "text": [
      "i = 0 LDI(0, 9)       [9, 0, 0, 0, 0, 0, 0, 0, 0, 0, 0, 0, 0, 0, 0, 0]\n",
      "i = 1 LDI(1, 3)       [9, 3, 0, 0, 0, 0, 0, 0, 0, 0, 0, 0, 0, 0, 0, 0]\n",
      "i = 2 LDI(2, 0)       [9, 3, 0, 0, 0, 0, 0, 0, 0, 0, 0, 0, 0, 0, 0, 0]\n",
      "i = 3 LDI(3, 0)       [9, 3, 0, 0, 0, 0, 0, 0, 0, 0, 0, 0, 0, 0, 0, 0]\n",
      "i = 4 ADD(0, 1, 2)    [9, 3, 12, 0, 0, 0, 0, 0, 0, 0, 0, 0, 0, 0, 0, 0]\n",
      "i = 5 MUL(2, 0, 3)    [9, 3, 12, 108, 0, 0, 0, 0, 0, 0, 0, 0, 0, 0, 0, 0]\n"
     ]
    },
    {
     "data": {
      "text/plain": [
       "[9, 3, 12, 108, 0, 0, 0, 0, 0, 0, 0, 0, 0, 0, 0, 0]"
      ]
     },
     "execution_count": 5,
     "metadata": {},
     "output_type": "execute_result"
    }
   ],
   "source": [
    "memory = [0 for _ in range(16)]\n",
    "\n",
    "program = [\n",
    "    (LDI, (0, 9)),\n",
    "    (LDI, (1, 3)),\n",
    "    (LDI, (2, 0)),\n",
    "    (LDI, (3, 0)),\n",
    "    (ADD, (0, 1, 2)),\n",
    "    (MUL, (2, 0, 3)),\n",
    "    (HALT, ()),\n",
    "]\n",
    "\n",
    "run_program(program, memory)"
   ]
  },
  {
   "cell_type": "code",
   "execution_count": 9,
   "metadata": {},
   "outputs": [
    {
     "name": "stdout",
     "output_type": "stream",
     "text": [
      "i = 0 LDI(1, 3)       [0, 3, 0, 0, 0, 0, 0, 0, 0, 0, 0, 0, 0, 0, 0, 0]\n",
      "i = 1 LDI(2, 5)       [0, 3, 5, 0, 0, 0, 0, 0, 0, 0, 0, 0, 0, 0, 0, 0]\n",
      "i = 2 LDI(3, 6)       [0, 3, 5, 6, 0, 0, 0, 0, 0, 0, 0, 0, 0, 0, 0, 0]\n",
      "i = 3 LDI(4, 4)       [0, 3, 5, 6, 4, 0, 0, 0, 0, 0, 0, 0, 0, 0, 0, 0]\n",
      "i = 4 LDI(6, 0)       [0, 3, 5, 6, 4, 0, 0, 0, 0, 0, 0, 0, 0, 0, 0, 0]\n",
      "i = 5 MUL(1, 2, 1)    [0, 15, 5, 6, 4, 0, 0, 0, 0, 0, 0, 0, 0, 0, 0, 0]\n",
      "i = 6 MUL(3, 4, 3)    [0, 15, 5, 24, 4, 0, 0, 0, 0, 0, 0, 0, 0, 0, 0, 0]\n",
      "i = 7 SUB(3, 1, 6)    [0, 15, 5, 24, 4, 0, 9, 0, 0, 0, 0, 0, 0, 0, 0, 0]\n"
     ]
    },
    {
     "data": {
      "text/plain": [
       "[0, 15, 5, 24, 4, 0, 9, 0, 0, 0, 0, 0, 0, 0, 0, 0]"
      ]
     },
     "execution_count": 9,
     "metadata": {},
     "output_type": "execute_result"
    }
   ],
   "source": [
    "memory = [0 for _ in range(16)]\n",
    "\n",
    "program = [\n",
    "    (LDI, (1, 3)),\n",
    "    (LDI, (2, 5)),\n",
    "    (LDI, (3, 6)),\n",
    "    (LDI, (4, 4)),\n",
    "    (LDI, (6, 0)),\n",
    "    (MUL, (1, 2, 1)),\n",
    "    (MUL, (3, 4, 3)),\n",
    "    (SUB, (3, 1, 6)),\n",
    "    (HALT, ()),\n",
    "]\n",
    "\n",
    "run_program(program, memory)"
   ]
  },
  {
   "cell_type": "code",
   "execution_count": null,
   "metadata": {},
   "outputs": [],
   "source": []
  }
 ],
 "metadata": {
  "kernelspec": {
   "display_name": "base",
   "language": "python",
   "name": "python3"
  },
  "language_info": {
   "codemirror_mode": {
    "name": "ipython",
    "version": 3
   },
   "file_extension": ".py",
   "mimetype": "text/x-python",
   "name": "python",
   "nbconvert_exporter": "python",
   "pygments_lexer": "ipython3",
   "version": "3.11.5"
  }
 },
 "nbformat": 4,
 "nbformat_minor": 2
}
