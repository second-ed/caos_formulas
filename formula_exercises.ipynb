{
 "cells": [
  {
   "cell_type": "code",
   "execution_count": 1,
   "metadata": {},
   "outputs": [],
   "source": [
    "import sympy as sp\n",
    "\n",
    "from src.formulas import *"
   ]
  },
  {
   "cell_type": "code",
   "execution_count": 2,
   "metadata": {},
   "outputs": [
    {
     "data": {
      "text/plain": [
       "(100.000000000000, '100.00000 Hz')"
      ]
     },
     "execution_count": 2,
     "metadata": {},
     "output_type": "execute_result"
    }
   ],
   "source": [
    "clock_freq_inputs = {\n",
    "    \"t\": TimeConverter().convert(10, \"ms\", \"s\"),\n",
    "    # \"f\": 100\n",
    "}\n",
    "solve_clock_freq(clock_freq_inputs)"
   ]
  },
  {
   "cell_type": "code",
   "execution_count": 3,
   "metadata": {},
   "outputs": [
    {
     "data": {
      "text/plain": [
       "(0.300699300699301, '0.30070 ')"
      ]
     },
     "execution_count": 3,
     "metadata": {},
     "output_type": "execute_result"
    }
   ],
   "source": [
    "max_speedup_inputs = {\n",
    "    # \"P\": 0.3,\n",
    "    \"max_speedup\": 1.43\n",
    "}\n",
    "solve_max_speedup(max_speedup_inputs)"
   ]
  },
  {
   "cell_type": "code",
   "execution_count": 4,
   "metadata": {},
   "outputs": [
    {
     "data": {
      "text/plain": [
       "(3.00000000000000, '3.00000 ')"
      ]
     },
     "execution_count": 4,
     "metadata": {},
     "output_type": "execute_result"
    }
   ],
   "source": [
    "true_speedup_inputs = {\n",
    "    \"P\": 0.5,\n",
    "    # \"n\": 3,\n",
    "    \"true_speedup\": 1.50,\n",
    "}\n",
    "solve_true_speedup(true_speedup_inputs)"
   ]
  },
  {
   "cell_type": "code",
   "execution_count": 5,
   "metadata": {},
   "outputs": [
    {
     "data": {
      "text/plain": [
       "(2.00000000000000, '2.00000 cycles')"
      ]
     },
     "execution_count": 5,
     "metadata": {},
     "output_type": "execute_result"
    }
   ],
   "source": [
    "branch_pred_inputs = {\n",
    "    \"cycles_saved\": 3,\n",
    "    # \"cycles_cost\": 2,\n",
    "    \"p_correct\": 0.4,\n",
    "    \"p_incorrect\": 0.6,\n",
    "    \"total_savings\": 0,\n",
    "}\n",
    "solve_branch_prediction(branch_pred_inputs)"
   ]
  },
  {
   "cell_type": "code",
   "execution_count": 6,
   "metadata": {},
   "outputs": [
    {
     "data": {
      "text/plain": [
       "(16, '16 bits')"
      ]
     },
     "execution_count": 6,
     "metadata": {},
     "output_type": "execute_result"
    }
   ],
   "source": [
    "address_loc_inputs = {\n",
    "    # \"address_lines\": 16,\n",
    "    \"address_locations\": 65536,\n",
    "}\n",
    "solve_address_locations(address_loc_inputs)"
   ]
  },
  {
   "cell_type": "code",
   "execution_count": 7,
   "metadata": {},
   "outputs": [
    {
     "data": {
      "text/plain": [
       "(32768.0000000000, '32768.00000 MB')"
      ]
     },
     "execution_count": 7,
     "metadata": {},
     "output_type": "execute_result"
    }
   ],
   "source": [
    "storage_cap_inputs = {\"address_lines\": 32, \"data_lines\": 64, \"to_unit\": \"MB\"}\n",
    "\n",
    "solve_storage_capacity(storage_cap_inputs)"
   ]
  },
  {
   "cell_type": "code",
   "execution_count": 8,
   "metadata": {},
   "outputs": [
    {
     "data": {
      "text/plain": [
       "(381.469726562500, '381.46973 MB per second')"
      ]
     },
     "execution_count": 8,
     "metadata": {},
     "output_type": "execute_result"
    }
   ],
   "source": [
    "memory_data_rate_inputs = {\n",
    "    \"memory_read_time\": 5,\n",
    "    \"memory_width\": ByteConverter().convert(16, \"b\", \"B\"),\n",
    "    \"clock_rate\": HertzConverter().convert(1, \"GHz\", \"Hz\"),\n",
    "    # \"memory_data_rate\": ,\n",
    "}\n",
    "\n",
    "solve_memory_data_rate(memory_data_rate_inputs, units=\"MB\")"
   ]
  },
  {
   "cell_type": "code",
   "execution_count": 9,
   "metadata": {},
   "outputs": [
    {
     "data": {
      "text/plain": [
       "(9, '9.00000 ')"
      ]
     },
     "execution_count": 9,
     "metadata": {},
     "output_type": "execute_result"
    }
   ],
   "source": [
    "avg_memory_read_inputs = {\n",
    "    \"access_time\": 5,\n",
    "    \"recovery_cycles\": 2,\n",
    "    \"ras_cycles\": 1,\n",
    "    \"cas_cycles\": 1,\n",
    "}\n",
    "\n",
    "solve_avg_memory_read_time(avg_memory_read_inputs)"
   ]
  },
  {
   "cell_type": "code",
   "execution_count": 10,
   "metadata": {},
   "outputs": [
    {
     "data": {
      "text/plain": [
       "(2.50000000000000, '2.50000 clocks')"
      ]
     },
     "execution_count": 10,
     "metadata": {},
     "output_type": "execute_result"
    }
   ],
   "source": [
    "cache_avg_read_time_inputs = {\n",
    "    \"p_cache\": 0.75,  # probability data is cached\n",
    "    \"sram\": 1.0,  # cache read access time\n",
    "    \"dram\": 6.0,  # non-cache read access time\n",
    "    \"ras\": 0.0,  # row read time\n",
    "    \"cas\": 0.0,  # col read time\n",
    "    # \"cache_avg_read_time\": 3.3 # cache avg read time\n",
    "}\n",
    "\n",
    "solve_cache_avg_read_time(cache_avg_read_time_inputs)"
   ]
  },
  {
   "cell_type": "code",
   "execution_count": 11,
   "metadata": {},
   "outputs": [
    {
     "data": {
      "text/plain": [
       "(160000000.000000, '160000000.00000 bytes/sec')"
      ]
     },
     "execution_count": 11,
     "metadata": {},
     "output_type": "execute_result"
    }
   ],
   "source": [
    "data_transfer_rate_inputs = {\n",
    "    \"protocol_overhead\": 5,\n",
    "    \"bus_width\": ByteConverter().convert(32, \"b\", \"B\"),\n",
    "    \"bus_frequency\": HertzConverter().convert(240, \"MHz\", \"Hz\"),\n",
    "    # \"data_transfer_rate\": \"bytes/sec\"\n",
    "}\n",
    "\n",
    "solve_data_transfer_rate(data_transfer_rate_inputs)"
   ]
  },
  {
   "cell_type": "code",
   "execution_count": 12,
   "metadata": {},
   "outputs": [
    {
     "data": {
      "text/plain": [
       "(0.500000000000000, '0.50000 ')"
      ]
     },
     "execution_count": 12,
     "metadata": {},
     "output_type": "execute_result"
    }
   ],
   "source": [
    "data_transfer_rate_inputs = {\n",
    "    \"protocol_overhead\": 4,\n",
    "    \"bus_width\": ByteConverter().convert(4, \"B\", \"B\"),\n",
    "    \"block_size\": ByteConverter().convert(16, \"B\", \"B\"),\n",
    "    # \"data_transfer_efficiency\": \"bytes/sec\"\n",
    "}\n",
    "\n",
    "solve_data_transfer_efficiency(data_transfer_rate_inputs)"
   ]
  },
  {
   "cell_type": "code",
   "execution_count": 23,
   "metadata": {},
   "outputs": [
    {
     "data": {
      "text/plain": [
       "(250000000.000000, '250000000.00000 bytes/sec')"
      ]
     },
     "execution_count": 23,
     "metadata": {},
     "output_type": "execute_result"
    }
   ],
   "source": [
    "synchronous_bus_max_bandwidth_inputs = {\n",
    "    \"bus_frequency\": HertzConverter().convert(10, \"Hz\", \"Hz\"),\n",
    "    \"bus_width\": ByteConverter().convert(10, \"B\", \"B\"),\n",
    "    \"clock_cycle_time\": TimeConverter().convert(10, \"ns\", \"s\"),\n",
    "    \"ras\": 0.5,\n",
    "    \"cas\": 0.5,\n",
    "    \"send_clocks\": 1,\n",
    "    \"memory_access_time\": TimeConverter().convert(20, \"ns\", \"s\"),\n",
    "    # \"maximum_bandwidth\": \"bytes/sec\",\n",
    "}\n",
    "\n",
    "solve_synchronous_bus_max_bandwidth(synchronous_bus_max_bandwidth_inputs)"
   ]
  },
  {
   "cell_type": "code",
   "execution_count": null,
   "metadata": {},
   "outputs": [],
   "source": []
  }
 ],
 "metadata": {
  "kernelspec": {
   "display_name": "base",
   "language": "python",
   "name": "python3"
  },
  "language_info": {
   "codemirror_mode": {
    "name": "ipython",
    "version": 3
   },
   "file_extension": ".py",
   "mimetype": "text/x-python",
   "name": "python",
   "nbconvert_exporter": "python",
   "pygments_lexer": "ipython3",
   "version": "3.11.5"
  }
 },
 "nbformat": 4,
 "nbformat_minor": 2
}
