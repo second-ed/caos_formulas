{
 "cells": [
  {
   "cell_type": "code",
   "execution_count": 1,
   "metadata": {},
   "outputs": [],
   "source": [
    "import sympy as sp\n",
    "\n",
    "from src.formulas import *"
   ]
  },
  {
   "cell_type": "code",
   "execution_count": 2,
   "metadata": {},
   "outputs": [
    {
     "name": "stdout",
     "output_type": "stream",
     "text": [
      "100.00000 Hz\n"
     ]
    },
    {
     "data": {
      "text/latex": [
       "$\\displaystyle 100.0$"
      ],
      "text/plain": [
       "100.000000000000"
      ]
     },
     "execution_count": 2,
     "metadata": {},
     "output_type": "execute_result"
    }
   ],
   "source": [
    "clock_freq_inputs = {\n",
    "    \"t\": TimeConverter().convert(10, \"ms\", \"s\"),\n",
    "    # \"f\": 100\n",
    "}\n",
    "solve_clock_freq(clock_freq_inputs)"
   ]
  },
  {
   "cell_type": "code",
   "execution_count": 3,
   "metadata": {},
   "outputs": [
    {
     "name": "stdout",
     "output_type": "stream",
     "text": [
      "0.30070 \n"
     ]
    },
    {
     "data": {
      "text/latex": [
       "$\\displaystyle 0.300699300699301$"
      ],
      "text/plain": [
       "0.300699300699301"
      ]
     },
     "execution_count": 3,
     "metadata": {},
     "output_type": "execute_result"
    }
   ],
   "source": [
    "max_speedup_inputs = {\n",
    "    # \"P\": 0.3,\n",
    "    \"max_speedup\": 1.43\n",
    "}\n",
    "solve_max_speedup(max_speedup_inputs)"
   ]
  },
  {
   "cell_type": "code",
   "execution_count": 4,
   "metadata": {},
   "outputs": [
    {
     "name": "stdout",
     "output_type": "stream",
     "text": [
      "3.00000 \n"
     ]
    },
    {
     "data": {
      "text/latex": [
       "$\\displaystyle 3.0$"
      ],
      "text/plain": [
       "3.00000000000000"
      ]
     },
     "execution_count": 4,
     "metadata": {},
     "output_type": "execute_result"
    }
   ],
   "source": [
    "true_speedup_inputs = {\n",
    "    \"P\": 0.5,\n",
    "    # \"n\": 3,\n",
    "    \"true_speedup\": 1.50,\n",
    "}\n",
    "solve_true_speedup(true_speedup_inputs)"
   ]
  },
  {
   "cell_type": "code",
   "execution_count": 5,
   "metadata": {},
   "outputs": [
    {
     "name": "stdout",
     "output_type": "stream",
     "text": [
      "2.50000  speed up of n processors\n"
     ]
    },
    {
     "data": {
      "text/latex": [
       "$\\displaystyle 2.5$"
      ],
      "text/plain": [
       "2.50000000000000"
      ]
     },
     "execution_count": 5,
     "metadata": {},
     "output_type": "execute_result"
    }
   ],
   "source": [
    "# Gustafson’s law states as computing resources increase,\n",
    "# the problem size and workload can be scaled up to utilize\n",
    "# the available resources effectively.\n",
    "\n",
    "gustafsons_law_inputs = {\n",
    "    \"P\": 0.5,\n",
    "    \"n\": 4,\n",
    "    # \"speedup\": 1.50,\n",
    "}\n",
    "solve_gustafsons_law(gustafsons_law_inputs)"
   ]
  },
  {
   "cell_type": "code",
   "execution_count": 6,
   "metadata": {},
   "outputs": [
    {
     "name": "stdout",
     "output_type": "stream",
     "text": [
      "2.00000 cycles\n"
     ]
    },
    {
     "data": {
      "text/latex": [
       "$\\displaystyle 2.0$"
      ],
      "text/plain": [
       "2.00000000000000"
      ]
     },
     "execution_count": 6,
     "metadata": {},
     "output_type": "execute_result"
    }
   ],
   "source": [
    "branch_pred_inputs = {\n",
    "    \"cycles_saved\": 3,\n",
    "    # \"cycles_cost\": 2,\n",
    "    \"p_correct\": 0.4,\n",
    "    \"p_incorrect\": 0.6,\n",
    "    \"total_savings\": 0,\n",
    "}\n",
    "solve_branch_prediction(branch_pred_inputs)"
   ]
  },
  {
   "cell_type": "code",
   "execution_count": 7,
   "metadata": {},
   "outputs": [
    {
     "name": "stdout",
     "output_type": "stream",
     "text": [
      "266600000.00000 reads per sec\n"
     ]
    },
    {
     "data": {
      "text/latex": [
       "$\\displaystyle 266600000.0$"
      ],
      "text/plain": [
       "266600000.000000"
      ]
     },
     "execution_count": 7,
     "metadata": {},
     "output_type": "execute_result"
    }
   ],
   "source": [
    "reads_per_sec_inputs =  {\n",
    "        #\"reads_per_sec\": ,\n",
    "        \"freq\": HertzConverter().convert(1333, \"MHz\", \"Hz\"),\n",
    "        \"clocks_per_read\": 5,\n",
    "    }\n",
    "\n",
    "solve_reads_per_sec(reads_per_sec_inputs)"
   ]
  },
  {
   "cell_type": "code",
   "execution_count": null,
   "metadata": {},
   "outputs": [],
   "source": []
  },
  {
   "cell_type": "code",
   "execution_count": 8,
   "metadata": {},
   "outputs": [
    {
     "name": "stdout",
     "output_type": "stream",
     "text": [
      "16.00000 bits\n"
     ]
    },
    {
     "data": {
      "text/latex": [
       "$\\displaystyle 16$"
      ],
      "text/plain": [
       "16"
      ]
     },
     "execution_count": 8,
     "metadata": {},
     "output_type": "execute_result"
    }
   ],
   "source": [
    "address_loc_inputs = {\n",
    "    # \"address_lines\": 16,\n",
    "    \"address_locations\": 65536,\n",
    "}\n",
    "solve_address_locations(address_loc_inputs)"
   ]
  },
  {
   "cell_type": "code",
   "execution_count": 9,
   "metadata": {},
   "outputs": [
    {
     "name": "stdout",
     "output_type": "stream",
     "text": [
      "4294967296.00000 locations\n",
      "34359738368.00000\n"
     ]
    },
    {
     "data": {
      "text/latex": [
       "$\\displaystyle 32768.0$"
      ],
      "text/plain": [
       "32768.0000000000"
      ]
     },
     "execution_count": 9,
     "metadata": {},
     "output_type": "execute_result"
    }
   ],
   "source": [
    "storage_cap_inputs = {\"address_lines\": 32, \"data_lines\": 64}\n",
    "\n",
    "ByteConverter().convert(solve_storage_capacity(storage_cap_inputs), \"B\", \"MB\")"
   ]
  },
  {
   "cell_type": "code",
   "execution_count": 10,
   "metadata": {},
   "outputs": [
    {
     "name": "stdout",
     "output_type": "stream",
     "text": [
      "800000000.00000 bytes per second\n"
     ]
    },
    {
     "data": {
      "text/latex": [
       "$\\displaystyle 800000000.0$"
      ],
      "text/plain": [
       "800000000.000000"
      ]
     },
     "execution_count": 10,
     "metadata": {},
     "output_type": "execute_result"
    }
   ],
   "source": [
    "memory_data_rate_inputs = {\n",
    "    \"memory_read_time\": 5,\n",
    "    \"memory_width\": ByteConverter().convert(32, \"b\", \"B\"),\n",
    "    \"clock_rate\": HertzConverter().convert(1, \"GHz\", \"Hz\"),\n",
    "    # \"memory_data_rate\": ,\n",
    "}\n",
    "\n",
    "solve_memory_data_rate(memory_data_rate_inputs)"
   ]
  },
  {
   "cell_type": "code",
   "execution_count": 11,
   "metadata": {},
   "outputs": [
    {
     "name": "stdout",
     "output_type": "stream",
     "text": [
      "9.00000 \n"
     ]
    },
    {
     "data": {
      "text/latex": [
       "$\\displaystyle 9$"
      ],
      "text/plain": [
       "9"
      ]
     },
     "execution_count": 11,
     "metadata": {},
     "output_type": "execute_result"
    }
   ],
   "source": [
    "avg_memory_read_inputs = {\n",
    "    \"access_time\": 5,\n",
    "    \"recovery_cycles\": 2,\n",
    "    \"ras_cycles\": 1,\n",
    "    \"cas_cycles\": 1,\n",
    "}\n",
    "\n",
    "solve_avg_memory_read_time(avg_memory_read_inputs)"
   ]
  },
  {
   "cell_type": "code",
   "execution_count": 12,
   "metadata": {},
   "outputs": [
    {
     "name": "stdout",
     "output_type": "stream",
     "text": [
      "3.50000 clocks\n"
     ]
    },
    {
     "data": {
      "text/latex": [
       "$\\displaystyle 3.5$"
      ],
      "text/plain": [
       "3.50000000000000"
      ]
     },
     "execution_count": 12,
     "metadata": {},
     "output_type": "execute_result"
    }
   ],
   "source": [
    "cache_avg_read_time_inputs = {\n",
    "    \"p_cache\": 0.9,  # probability data is cached\n",
    "    \"sram\": 3.0,  # cache read access time\n",
    "    \"dram\": 5.0,  # non-cache read access time\n",
    "    \"ras\": 0.0,  # row read time\n",
    "    \"cas\": 0.0,  # col read time\n",
    "    # \"cache_avg_read_time\": 3.3 # cache avg read time\n",
    "}\n",
    "\n",
    "solve_cache_avg_read_time(cache_avg_read_time_inputs)"
   ]
  },
  {
   "cell_type": "code",
   "execution_count": 13,
   "metadata": {},
   "outputs": [
    {
     "name": "stdout",
     "output_type": "stream",
     "text": [
      "160000000.00000 bytes/sec\n"
     ]
    },
    {
     "data": {
      "text/latex": [
       "$\\displaystyle 160000000.0$"
      ],
      "text/plain": [
       "160000000.000000"
      ]
     },
     "execution_count": 13,
     "metadata": {},
     "output_type": "execute_result"
    }
   ],
   "source": [
    "data_transfer_rate_inputs = {\n",
    "    \"protocol_overhead\": 5,\n",
    "    \"bus_width\": ByteConverter().convert(32, \"b\", \"B\"),\n",
    "    \"bus_frequency\": HertzConverter().convert(240, \"MHz\", \"Hz\"),\n",
    "    # \"data_transfer_rate\": \"bytes/sec\"\n",
    "}\n",
    "\n",
    "solve_data_transfer_rate(data_transfer_rate_inputs)"
   ]
  },
  {
   "cell_type": "code",
   "execution_count": 14,
   "metadata": {},
   "outputs": [
    {
     "name": "stdout",
     "output_type": "stream",
     "text": [
      "0.50000 \n"
     ]
    },
    {
     "data": {
      "text/latex": [
       "$\\displaystyle 0.5$"
      ],
      "text/plain": [
       "0.500000000000000"
      ]
     },
     "execution_count": 14,
     "metadata": {},
     "output_type": "execute_result"
    }
   ],
   "source": [
    "data_transfer_rate_inputs = {\n",
    "    \"protocol_overhead\": 4,\n",
    "    \"bus_width\": ByteConverter().convert(4, \"B\", \"B\"),\n",
    "    \"block_size\": ByteConverter().convert(16, \"B\", \"B\"),\n",
    "    # \"data_transfer_efficiency\": \"bytes/sec\"\n",
    "}\n",
    "\n",
    "solve_data_transfer_efficiency(data_transfer_rate_inputs)"
   ]
  },
  {
   "cell_type": "code",
   "execution_count": 15,
   "metadata": {},
   "outputs": [
    {
     "name": "stdout",
     "output_type": "stream",
     "text": [
      "285714285.71429 bytes/sec\n"
     ]
    },
    {
     "data": {
      "text/latex": [
       "$\\displaystyle 285714285.714286$"
      ],
      "text/plain": [
       "285714285.714286"
      ]
     },
     "execution_count": 15,
     "metadata": {},
     "output_type": "execute_result"
    }
   ],
   "source": [
    "synchronous_bus_max_bandwidth_inputs = {\n",
    "    \"bus_width\": ByteConverter().convert(64, \"b\", \"B\"),\n",
    "    \"clock_cycle_time\": TimeConverter().convert(4, \"ns\", \"s\"),\n",
    "    \"ras\": 0.5,\n",
    "    \"cas\": 0.5,\n",
    "    \"send_clocks\": 1,\n",
    "    \"memory_access_time\": TimeConverter().convert(20, \"ns\", \"s\"),\n",
    "    # \"maximum_bandwidth\": \"bytes/sec\",\n",
    "}\n",
    "\n",
    "solve_synchronous_bus_max_bandwidth(synchronous_bus_max_bandwidth_inputs)"
   ]
  },
  {
   "cell_type": "code",
   "execution_count": 16,
   "metadata": {},
   "outputs": [
    {
     "name": "stdout",
     "output_type": "stream",
     "text": [
      "850340.13605 bytes/sec\n"
     ]
    },
    {
     "data": {
      "text/latex": [
       "$\\displaystyle 850340.136054422$"
      ],
      "text/plain": [
       "850340.136054422"
      ]
     },
     "execution_count": 16,
     "metadata": {},
     "output_type": "execute_result"
    }
   ],
   "source": [
    "asynchronous_bus_max_bandwidth_inputs = {\n",
    "    \"bus_width\": ByteConverter().convert(10, \"b\", \"B\"),\n",
    "    \"handshake_time\": TimeConverter().convert(210, \"ns\", \"s\"),\n",
    "    \"memory_access_time\": TimeConverter().convert(240, \"ns\", \"s\"),\n",
    "    # \"maximum_bandwidth\": \"bytes/sec\",\n",
    "}\n",
    "\n",
    "solve_asynchronous_bus_max_bandwidth(asynchronous_bus_max_bandwidth_inputs)"
   ]
  },
  {
   "cell_type": "code",
   "execution_count": null,
   "metadata": {},
   "outputs": [],
   "source": []
  },
  {
   "cell_type": "code",
   "execution_count": null,
   "metadata": {},
   "outputs": [],
   "source": []
  }
 ],
 "metadata": {
  "kernelspec": {
   "display_name": "base",
   "language": "python",
   "name": "python3"
  },
  "language_info": {
   "codemirror_mode": {
    "name": "ipython",
    "version": 3
   },
   "file_extension": ".py",
   "mimetype": "text/x-python",
   "name": "python",
   "nbconvert_exporter": "python",
   "pygments_lexer": "ipython3",
   "version": "3.11.5"
  }
 },
 "nbformat": 4,
 "nbformat_minor": 2
}
