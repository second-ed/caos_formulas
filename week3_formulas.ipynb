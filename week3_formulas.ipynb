{
 "cells": [
  {
   "cell_type": "markdown",
   "id": "e70473b5",
   "metadata": {},
   "source": [
    "cycles_total"
   ]
  },
  {
   "cell_type": "code",
   "execution_count": 1,
   "id": "17c26057",
   "metadata": {},
   "outputs": [
    {
     "name": "stdout",
     "output_type": "stream",
     "text": [
      "cycles_overhead + cycles_payload - cycles_total\n",
      "9.00000 \n"
     ]
    },
    {
     "data": {
      "text/plain": [
       "9.0"
      ]
     },
     "execution_count": 1,
     "metadata": {},
     "output_type": "execute_result"
    }
   ],
   "source": [
    "from src.week3_formulas import solve_cycles_total\n",
    "\n",
    "cycles_total_inputs = {\n",
    "    # \"cycles_total\": 9,\n",
    "    \"cycles_payload\": 5,\n",
    "    \"cycles_overhead\": 4,\n",
    "}\n",
    "\n",
    "solve_cycles_total(cycles_total_inputs)"
   ]
  },
  {
   "cell_type": "markdown",
   "id": "8b028c5d",
   "metadata": {},
   "source": [
    "bus_data_transfer_rate"
   ]
  },
  {
   "cell_type": "code",
   "execution_count": 2,
   "id": "a27a5d0e",
   "metadata": {},
   "outputs": [
    {
     "name": "stdout",
     "output_type": "stream",
     "text": [
      "amount_of_data*bus_freq/cycles_total - bus_data_transfer_rate\n",
      "160000000.00000 \n"
     ]
    },
    {
     "data": {
      "text/plain": [
       "160000000.0"
      ]
     },
     "execution_count": 2,
     "metadata": {},
     "output_type": "execute_result"
    }
   ],
   "source": [
    "from src.formula_utils import ByteConverter, HertzConverter\n",
    "from src.week3_formulas import solve_bus_data_transfer_rate\n",
    "\n",
    "bus_data_transfer_rate_inputs = {\n",
    "    # \"bus_data_transfer_rate\": 160000000.,\n",
    "    \"bus_freq\": HertzConverter().convert(200, \"MHz\", \"Hz\"),\n",
    "    \"amount_of_data\": ByteConverter().convert(32, \"b\", \"B\"),\n",
    "    \"cycles_total\": 5,\n",
    "}\n",
    "\n",
    "solve_bus_data_transfer_rate(bus_data_transfer_rate_inputs)"
   ]
  },
  {
   "cell_type": "markdown",
   "id": "bb4cb1c7",
   "metadata": {},
   "source": [
    "cycles_block"
   ]
  },
  {
   "cell_type": "code",
   "execution_count": 3,
   "id": "a596c77e",
   "metadata": {},
   "outputs": [
    {
     "name": "stdout",
     "output_type": "stream",
     "text": [
      "-cycles_block + size_block/size_bus_width\n",
      "16.00000 \n"
     ]
    },
    {
     "data": {
      "text/plain": [
       "16.0"
      ]
     },
     "execution_count": 3,
     "metadata": {},
     "output_type": "execute_result"
    }
   ],
   "source": [
    "from src.formula_utils import ByteConverter, HertzConverter\n",
    "from src.week3_formulas import solve_cycles_block\n",
    "\n",
    "cycles_block_inputs = {\n",
    "    # \"cycles_block\": 16.00000,\n",
    "    \"size_block\": ByteConverter().convert(256, \"b\", \"B\"),\n",
    "    \"size_bus_width\": ByteConverter().convert(16, \"b\", \"B\"),\n",
    "}\n",
    "\n",
    "solve_cycles_block(cycles_block_inputs)"
   ]
  },
  {
   "cell_type": "markdown",
   "id": "86543a80",
   "metadata": {},
   "source": [
    "bus_data_transfer_efficiency"
   ]
  },
  {
   "cell_type": "code",
   "execution_count": 6,
   "id": "292c033a",
   "metadata": {},
   "outputs": [
    {
     "name": "stdout",
     "output_type": "stream",
     "text": [
      "-bus_data_transfer_efficiency + 100*cycles_block/(cycles_block + cycles_overhead)\n",
      "60.00000 \n"
     ]
    },
    {
     "data": {
      "text/plain": [
       "60.0"
      ]
     },
     "execution_count": 6,
     "metadata": {},
     "output_type": "execute_result"
    }
   ],
   "source": [
    "from src.week3_formulas import solve_bus_data_transfer_efficiency\n",
    "\n",
    "bus_data_transfer_efficiency_inputs = {\n",
    "    # \"bus_data_transfer_efficiency\": 50.00,\n",
    "    \"cycles_block\": 6,\n",
    "    \"cycles_overhead\": 4,\n",
    "}\n",
    "\n",
    "solve_bus_data_transfer_efficiency(bus_data_transfer_efficiency_inputs)"
   ]
  },
  {
   "cell_type": "markdown",
   "id": "c50aa96d",
   "metadata": {},
   "source": [
    "read_time_synchronous"
   ]
  },
  {
   "cell_type": "code",
   "execution_count": 7,
   "id": "6607ba01",
   "metadata": {},
   "outputs": [
    {
     "name": "stdout",
     "output_type": "stream",
     "text": [
      "-read_time_synchronous + time_memory_access + time_send_address + time_send_data\n",
      "0.00016 \n"
     ]
    },
    {
     "data": {
      "text/plain": [
       "0.00016"
      ]
     },
     "execution_count": 7,
     "metadata": {},
     "output_type": "execute_result"
    }
   ],
   "source": [
    "from src.formula_utils import TimeConverter\n",
    "from src.week3_formulas import solve_read_time_synchronous\n",
    "\n",
    "read_time_synchronous_inputs = {\n",
    "    # \"read_time_synchronous\": TimeConverter().convert(0.00016, \"s\", \"s\"),\n",
    "    \"time_send_address\": TimeConverter().convert(20, \"µs\", \"s\"),\n",
    "    \"time_memory_access\": TimeConverter().convert(20, \"µs\", \"s\"),\n",
    "    \"time_send_data\": TimeConverter().convert(120, \"µs\", \"s\"),\n",
    "}\n",
    "\n",
    "solve_read_time_synchronous(read_time_synchronous_inputs)"
   ]
  },
  {
   "cell_type": "markdown",
   "id": "069b48f1",
   "metadata": {},
   "source": [
    "read_time_asynchronous"
   ]
  },
  {
   "cell_type": "code",
   "execution_count": 1,
   "id": "ed3c07c2",
   "metadata": {},
   "outputs": [
    {
     "name": "stdout",
     "output_type": "stream",
     "text": [
      "-read_time_asynchronous + 4*time_handshake + Max(3*time_handshake, time_memory_access)\n",
      "0.00020 \n"
     ]
    },
    {
     "data": {
      "text/plain": [
       "0.0002"
      ]
     },
     "execution_count": 1,
     "metadata": {},
     "output_type": "execute_result"
    }
   ],
   "source": [
    "from src.week3_formulas import solve_read_time_asynchronous\n",
    "from src.formula_utils import TimeConverter\n",
    "\n",
    "read_time_asynchronous_inputs = {\n",
    "    # \"read_time_asynchronous\": TimeConverter().convert(0.0002, \"s\", \"s\"),\n",
    "    \"time_handshake\": TimeConverter().convert(20, \"µs\", \"s\"),\n",
    "    \"time_memory_access\": TimeConverter().convert(120, \"µs\", \"s\"),\n",
    "}\n",
    "\n",
    "solve_read_time_asynchronous(read_time_asynchronous_inputs)"
   ]
  },
  {
   "cell_type": "markdown",
   "id": "23001735",
   "metadata": {},
   "source": [
    "bandwidth_max_for_bus"
   ]
  },
  {
   "cell_type": "code",
   "execution_count": 4,
   "id": "a468abad",
   "metadata": {},
   "outputs": [
    {
     "name": "stdout",
     "output_type": "stream",
     "text": [
      "-bandwidth_max_for_bus + n_bytes_to_transfer/(n_blocks_total*read_time_per_block)\n",
      "40.00000 \n"
     ]
    },
    {
     "data": {
      "text/plain": [
       "40.0"
      ]
     },
     "execution_count": 4,
     "metadata": {},
     "output_type": "execute_result"
    }
   ],
   "source": [
    "from src.week3_formulas import solve_bandwidth_max_for_bus\n",
    "from src.formula_utils import ByteConverter\n",
    "\n",
    "bandwidth_max_for_bus_inputs = {\n",
    "    # \"bandwidth_max_for_bus\": 40,\n",
    "    \"n_bytes_to_transfer\": ByteConverter().convert(512, \"b\", \"B\"),\n",
    "    \"read_time_per_block\": TimeConverter().convert(100, \"ms\", \"s\"),\n",
    "    \"n_blocks_total\": 16,\n",
    "}\n",
    "\n",
    "solve_bandwidth_max_for_bus(bandwidth_max_for_bus_inputs)"
   ]
  },
  {
   "cell_type": "markdown",
   "id": "b2ca5bf3",
   "metadata": {},
   "source": [
    "disk_revolution_time_sec"
   ]
  },
  {
   "cell_type": "code",
   "execution_count": 6,
   "id": "81077ec2",
   "metadata": {},
   "outputs": [
    {
     "name": "stdout",
     "output_type": "stream",
     "text": [
      "-disk_revolution_time_sec + 60/rotations_per_min\n",
      "0.03000 \n"
     ]
    },
    {
     "data": {
      "text/plain": [
       "0.03"
      ]
     },
     "execution_count": 6,
     "metadata": {},
     "output_type": "execute_result"
    }
   ],
   "source": [
    "from src.week3_formulas import solve_disk_revolution_time_sec\n",
    "\n",
    "disk_revolution_time_sec_inputs = {\n",
    "    # \"disk_revolution_time_sec\": ,\n",
    "    \"rotations_per_min\": 2000,\n",
    "}\n",
    "\n",
    "solve_disk_revolution_time_sec(disk_revolution_time_sec_inputs)"
   ]
  },
  {
   "cell_type": "markdown",
   "id": "c0777264",
   "metadata": {},
   "source": [
    "disk_access_time_worst"
   ]
  },
  {
   "cell_type": "code",
   "execution_count": 8,
   "id": "204c32b7",
   "metadata": {},
   "outputs": [
    {
     "name": "stdout",
     "output_type": "stream",
     "text": [
      "-disk_access_time_worst + time_head_seek + time_rotational_latency\n",
      "0.13000 \n"
     ]
    },
    {
     "data": {
      "text/plain": [
       "0.13"
      ]
     },
     "execution_count": 8,
     "metadata": {},
     "output_type": "execute_result"
    }
   ],
   "source": [
    "from src.week3_formulas import solve_disk_access_time_worst\n",
    "\n",
    "disk_access_time_worst_inputs = {\n",
    "    # \"disk_access_time_worst\": TimeConverter().convert(0.13, \"s\", \"s\"),\n",
    "    \"time_rotational_latency\": TimeConverter().convert(120, \"ms\", \"s\"),\n",
    "    \"time_head_seek\": TimeConverter().convert(10, \"ms\", \"s\"),\n",
    "}\n",
    "\n",
    "\n",
    "solve_disk_access_time_worst(disk_access_time_worst_inputs)"
   ]
  },
  {
   "cell_type": "markdown",
   "id": "f5f7900c",
   "metadata": {},
   "source": [
    "disk_access_time_avg"
   ]
  },
  {
   "cell_type": "code",
   "execution_count": 11,
   "id": "e7318c7f",
   "metadata": {},
   "outputs": [
    {
     "name": "stdout",
     "output_type": "stream",
     "text": [
      "-disk_access_time_avg + disk_access_time_worst/2\n",
      "0.00500 \n"
     ]
    },
    {
     "data": {
      "text/plain": [
       "0.005"
      ]
     },
     "execution_count": 11,
     "metadata": {},
     "output_type": "execute_result"
    }
   ],
   "source": [
    "from src.week3_formulas import solve_disk_access_time_avg\n",
    "\n",
    "disk_access_time_avg_inputs = {\n",
    "    # \"disk_access_time_avg\": TimeConverter().convert(0.00500 , \"s\", \"s\"),\n",
    "    \"disk_access_time_worst\": TimeConverter().convert(10, \"ms\", \"s\"),\n",
    "}\n",
    "\n",
    "solve_disk_access_time_avg(disk_access_time_avg_inputs)"
   ]
  },
  {
   "cell_type": "markdown",
   "id": "bd7353a9",
   "metadata": {},
   "source": [
    "track_size"
   ]
  },
  {
   "cell_type": "code",
   "execution_count": 14,
   "id": "15f9e07e",
   "metadata": {},
   "outputs": [
    {
     "name": "stdout",
     "output_type": "stream",
     "text": [
      "sector_size*sectors_per_track - track_size\n",
      "64.00000 \n"
     ]
    },
    {
     "data": {
      "text/plain": [
       "64.0"
      ]
     },
     "execution_count": 14,
     "metadata": {},
     "output_type": "execute_result"
    }
   ],
   "source": [
    "from src.week3_formulas import solve_track_size\n",
    "\n",
    "track_size_inputs = {\n",
    "    # \"track_size\": 64,\n",
    "    \"sector_size\": 4,\n",
    "    \"sectors_per_track\": 16,\n",
    "}\n",
    "\n",
    "solve_track_size(track_size_inputs)"
   ]
  },
  {
   "cell_type": "markdown",
   "id": "c7629574",
   "metadata": {},
   "source": [
    "data_transfer_rate_disk"
   ]
  },
  {
   "cell_type": "code",
   "execution_count": 15,
   "id": "af439637",
   "metadata": {},
   "outputs": [
    {
     "name": "stdout",
     "output_type": "stream",
     "text": [
      "-data_transfer_rate_disk + rotations_per_sec*track_size\n",
      "460800.00000 \n"
     ]
    },
    {
     "data": {
      "text/plain": [
       "460800.0"
      ]
     },
     "execution_count": 15,
     "metadata": {},
     "output_type": "execute_result"
    }
   ],
   "source": [
    "from src.week3_formulas import solve_data_transfer_rate_disk\n",
    "\n",
    "data_transfer_rate_disk_inputs = {\n",
    "    # \"data_transfer_rate_disk\": 460800.00000,\n",
    "    \"track_size\": 64,\n",
    "    \"rotations_per_sec\": 7200,\n",
    "}\n",
    "\n",
    "solve_data_transfer_rate_disk(data_transfer_rate_disk_inputs)"
   ]
  },
  {
   "cell_type": "code",
   "execution_count": null,
   "id": "a5f38193",
   "metadata": {},
   "outputs": [],
   "source": []
  }
 ],
 "metadata": {
  "kernelspec": {
   "display_name": "base",
   "language": "python",
   "name": "python3"
  },
  "language_info": {
   "codemirror_mode": {
    "name": "ipython",
    "version": 3
   },
   "file_extension": ".py",
   "mimetype": "text/x-python",
   "name": "python",
   "nbconvert_exporter": "python",
   "pygments_lexer": "ipython3",
   "version": "3.11.5"
  }
 },
 "nbformat": 4,
 "nbformat_minor": 5
}
