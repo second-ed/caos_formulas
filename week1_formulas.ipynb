{
 "cells": [
  {
   "cell_type": "markdown",
   "id": "a1f5188e",
   "metadata": {},
   "source": [
    "compute_density"
   ]
  },
  {
   "cell_type": "code",
   "execution_count": 2,
   "id": "b3a3019e",
   "metadata": {},
   "outputs": [
    {
     "name": "stdout",
     "output_type": "stream",
     "text": [
      "-compute_density + max_mips/volume\n",
      "2.00000 \n"
     ]
    },
    {
     "data": {
      "text/latex": [
       "$\\displaystyle 2$"
      ],
      "text/plain": [
       "2"
      ]
     },
     "execution_count": 2,
     "metadata": {},
     "output_type": "execute_result"
    }
   ],
   "source": [
    "from src.week1_formulas import solve_compute_density\n",
    "\n",
    "compute_density_inputs = {\n",
    "    # \"compute_density\": 2,\n",
    "    \"max_mips\": 10,\n",
    "    \"volume\": 5,\n",
    "}\n",
    "\n",
    "solve_compute_density(compute_density_inputs)"
   ]
  },
  {
   "cell_type": "markdown",
   "id": "4b00a408",
   "metadata": {},
   "source": [
    "power_density"
   ]
  },
  {
   "cell_type": "code",
   "execution_count": 4,
   "id": "ba766a49",
   "metadata": {},
   "outputs": [
    {
     "name": "stdout",
     "output_type": "stream",
     "text": [
      "power/volume - power_density\n",
      "0.10000 \n"
     ]
    },
    {
     "data": {
      "text/latex": [
       "$\\displaystyle \\frac{1}{10}$"
      ],
      "text/plain": [
       "1/10"
      ]
     },
     "execution_count": 4,
     "metadata": {},
     "output_type": "execute_result"
    }
   ],
   "source": [
    "from src.week1_formulas import solve_power_density\n",
    "\n",
    "power_density_inputs = {\n",
    "    # \"power_density\": 0.1,\n",
    "    \"power\": 2,\n",
    "    \"volume\": 20,\n",
    "}\n",
    "\n",
    "solve_power_density(power_density_inputs)"
   ]
  },
  {
   "cell_type": "markdown",
   "id": "414959e8",
   "metadata": {},
   "source": [
    "cost_efficiency"
   ]
  },
  {
   "cell_type": "code",
   "execution_count": 6,
   "id": "aa97e1c4",
   "metadata": {},
   "outputs": [
    {
     "name": "stdout",
     "output_type": "stream",
     "text": [
      "-cost_efficiency + price/max_mips\n",
      "2.00000 \n"
     ]
    },
    {
     "data": {
      "text/latex": [
       "$\\displaystyle 2$"
      ],
      "text/plain": [
       "2"
      ]
     },
     "execution_count": 6,
     "metadata": {},
     "output_type": "execute_result"
    }
   ],
   "source": [
    "from src.week1_formulas import solve_cost_efficiency\n",
    "\n",
    "cost_efficiency_inputs = {\n",
    "    # \"cost_efficiency\": 2,\n",
    "    \"price\": 10,\n",
    "    \"max_mips\": 5,\n",
    "}\n",
    "\n",
    "solve_cost_efficiency(cost_efficiency_inputs)"
   ]
  },
  {
   "cell_type": "markdown",
   "id": "c8cf2262",
   "metadata": {},
   "source": [
    "cost_of_running_computer_for_n_secs"
   ]
  },
  {
   "cell_type": "code",
   "execution_count": 8,
   "id": "c03eaa67",
   "metadata": {},
   "outputs": [
    {
     "name": "stdout",
     "output_type": "stream",
     "text": [
      "base_cost - cost_of_running_computer_for_n_secs + cost_per_sec*n_secs*power_consumption_per_sec\n",
      "20.00500 \n"
     ]
    },
    {
     "data": {
      "text/latex": [
       "$\\displaystyle 20.005$"
      ],
      "text/plain": [
       "20.0050000000000"
      ]
     },
     "execution_count": 8,
     "metadata": {},
     "output_type": "execute_result"
    }
   ],
   "source": [
    "from src.week1_formulas import solve_cost_of_running_computer_for_n_secs\n",
    "\n",
    "cost_of_running_computer_for_n_secs_inputs = {\n",
    "    # \"cost_of_running_computer_for_n_secs\": 20.005,\n",
    "    \"n_secs\": 5,\n",
    "    \"power_consumption_per_sec\": 0.1,\n",
    "    \"cost_per_sec\": 0.01,\n",
    "    \"base_cost\": 20,\n",
    "}\n",
    "\n",
    "solve_cost_of_running_computer_for_n_secs(cost_of_running_computer_for_n_secs_inputs)"
   ]
  },
  {
   "cell_type": "markdown",
   "id": "a74182b5",
   "metadata": {},
   "source": [
    "max_speedup"
   ]
  },
  {
   "cell_type": "code",
   "execution_count": 9,
   "id": "8d3b63ea",
   "metadata": {},
   "outputs": [
    {
     "name": "stdout",
     "output_type": "stream",
     "text": [
      "-max_speedup + 1/(1 - P)\n",
      "2.00000 \n"
     ]
    },
    {
     "data": {
      "text/latex": [
       "$\\displaystyle 2.0$"
      ],
      "text/plain": [
       "2.00000000000000"
      ]
     },
     "execution_count": 9,
     "metadata": {},
     "output_type": "execute_result"
    }
   ],
   "source": [
    "from src.week1_formulas import solve_max_speedup\n",
    "\n",
    "max_speedup_inputs = {\n",
    "    # \"max_speedup\": 2,\n",
    "    \"P\": 0.5,\n",
    "}\n",
    "\n",
    "solve_max_speedup(max_speedup_inputs)"
   ]
  },
  {
   "cell_type": "markdown",
   "id": "5773b79b",
   "metadata": {},
   "source": [
    "true_speedup"
   ]
  },
  {
   "cell_type": "code",
   "execution_count": 14,
   "id": "babb1e57",
   "metadata": {},
   "outputs": [
    {
     "name": "stdout",
     "output_type": "stream",
     "text": [
      "-true_speedup + 1/(-P + P/n + 1)\n",
      "4.00000 \n"
     ]
    },
    {
     "data": {
      "text/latex": [
       "$\\displaystyle 4.0$"
      ],
      "text/plain": [
       "4.00000000000000"
      ]
     },
     "execution_count": 14,
     "metadata": {},
     "output_type": "execute_result"
    }
   ],
   "source": [
    "from src.week1_formulas import solve_true_speedup\n",
    "\n",
    "true_speedup_inputs = {\n",
    "    \"true_speedup\": 1.6,\n",
    "    \"P\": 0.5,\n",
    "    # \"n\": 4,\n",
    "}\n",
    "\n",
    "solve_true_speedup(true_speedup_inputs)"
   ]
  },
  {
   "cell_type": "markdown",
   "id": "bd56c20e",
   "metadata": {},
   "source": [
    "gustafsons_law"
   ]
  },
  {
   "cell_type": "code",
   "execution_count": 11,
   "id": "afa7a2ba",
   "metadata": {},
   "outputs": [
    {
     "name": "stdout",
     "output_type": "stream",
     "text": [
      "P*n - P - gustafsons_law + 1\n",
      "4.00000 \n"
     ]
    },
    {
     "data": {
      "text/latex": [
       "$\\displaystyle 4.0$"
      ],
      "text/plain": [
       "4.00000000000000"
      ]
     },
     "execution_count": 11,
     "metadata": {},
     "output_type": "execute_result"
    }
   ],
   "source": [
    "from src.week1_formulas import solve_gustafsons_law\n",
    "\n",
    "gustafsons_law_inputs = {\n",
    "    \"gustafsons_law\": 2.5,\n",
    "    \"P\": 0.5,\n",
    "    # \"n\": 4,\n",
    "}\n",
    "\n",
    "solve_gustafsons_law(gustafsons_law_inputs)"
   ]
  },
  {
   "cell_type": "markdown",
   "id": "027bddf9",
   "metadata": {},
   "source": [
    "branch_prediction_saving_time"
   ]
  },
  {
   "cell_type": "code",
   "execution_count": 12,
   "id": "cad7b430",
   "metadata": {},
   "outputs": [
    {
     "name": "stdout",
     "output_type": "stream",
     "text": [
      "-branch_prediction_saving_time + hit_rate*hit_time_avg - miss_rate*miss_time_avg\n",
      "1.00000 \n"
     ]
    },
    {
     "data": {
      "text/latex": [
       "$\\displaystyle 1.0$"
      ],
      "text/plain": [
       "1.00000000000000"
      ]
     },
     "execution_count": 12,
     "metadata": {},
     "output_type": "execute_result"
    }
   ],
   "source": [
    "from src.week1_formulas import solve_branch_prediction_saving_time\n",
    "\n",
    "branch_prediction_saving_time_inputs = {\n",
    "    # \"branch_prediction_saving_time\": 1,\n",
    "    \"hit_rate\": 0.6,\n",
    "    \"hit_time_avg\": 3,\n",
    "    \"miss_rate\": 0.4,\n",
    "    \"miss_time_avg\": 2,\n",
    "}\n",
    "\n",
    "solve_branch_prediction_saving_time(branch_prediction_saving_time_inputs)"
   ]
  },
  {
   "cell_type": "code",
   "execution_count": null,
   "id": "de426487",
   "metadata": {},
   "outputs": [],
   "source": []
  }
 ],
 "metadata": {
  "kernelspec": {
   "display_name": "base",
   "language": "python",
   "name": "python3"
  },
  "language_info": {
   "codemirror_mode": {
    "name": "ipython",
    "version": 3
   },
   "file_extension": ".py",
   "mimetype": "text/x-python",
   "name": "python",
   "nbconvert_exporter": "python",
   "pygments_lexer": "ipython3",
   "version": "3.11.5"
  }
 },
 "nbformat": 4,
 "nbformat_minor": 5
}
