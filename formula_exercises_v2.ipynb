{
 "cells": [
  {
   "cell_type": "markdown",
   "id": "6f512cb3",
   "metadata": {},
   "source": [
    "## week1 formulas"
   ]
  },
  {
   "cell_type": "markdown",
   "id": "a1f5188e",
   "metadata": {},
   "source": [
    "compute_density"
   ]
  },
  {
   "cell_type": "code",
   "execution_count": 2,
   "id": "b3a3019e",
   "metadata": {},
   "outputs": [
    {
     "name": "stdout",
     "output_type": "stream",
     "text": [
      "-compute_density + max_mips/volume\n",
      "2.00000 \n"
     ]
    },
    {
     "data": {
      "text/latex": [
       "$\\displaystyle 2$"
      ],
      "text/plain": [
       "2"
      ]
     },
     "execution_count": 2,
     "metadata": {},
     "output_type": "execute_result"
    }
   ],
   "source": [
    "from src.formula_utils import ByteConverter, HertzConverter, TimeConverter\n",
    "from src.week1_formulas import solve_compute_density\n",
    "\n",
    "compute_density_inputs = {\n",
    "    # \"compute_density\": 2,\n",
    "    \"max_mips\": 10,\n",
    "    \"volume\": 5,\n",
    "}\n",
    "\n",
    "solve_compute_density(compute_density_inputs)"
   ]
  },
  {
   "cell_type": "markdown",
   "id": "4b00a408",
   "metadata": {},
   "source": [
    "power_density"
   ]
  },
  {
   "cell_type": "code",
   "execution_count": 4,
   "id": "ba766a49",
   "metadata": {},
   "outputs": [
    {
     "name": "stdout",
     "output_type": "stream",
     "text": [
      "power/volume - power_density\n",
      "0.10000 \n"
     ]
    },
    {
     "data": {
      "text/latex": [
       "$\\displaystyle \\frac{1}{10}$"
      ],
      "text/plain": [
       "1/10"
      ]
     },
     "execution_count": 4,
     "metadata": {},
     "output_type": "execute_result"
    }
   ],
   "source": [
    "from src.formula_utils import ByteConverter, HertzConverter, TimeConverter\n",
    "from src.week1_formulas import solve_power_density\n",
    "\n",
    "power_density_inputs = {\n",
    "    # \"power_density\": 0.1,\n",
    "    \"power\": 2,\n",
    "    \"volume\": 20,\n",
    "}\n",
    "\n",
    "solve_power_density(power_density_inputs)"
   ]
  },
  {
   "cell_type": "markdown",
   "id": "414959e8",
   "metadata": {},
   "source": [
    "cost_efficiency"
   ]
  },
  {
   "cell_type": "code",
   "execution_count": 6,
   "id": "aa97e1c4",
   "metadata": {},
   "outputs": [
    {
     "name": "stdout",
     "output_type": "stream",
     "text": [
      "-cost_efficiency + price/max_mips\n",
      "2.00000 \n"
     ]
    },
    {
     "data": {
      "text/latex": [
       "$\\displaystyle 2$"
      ],
      "text/plain": [
       "2"
      ]
     },
     "execution_count": 6,
     "metadata": {},
     "output_type": "execute_result"
    }
   ],
   "source": [
    "from src.formula_utils import ByteConverter, HertzConverter, TimeConverter\n",
    "from src.week1_formulas import solve_cost_efficiency\n",
    "\n",
    "cost_efficiency_inputs = {\n",
    "    # \"cost_efficiency\": 2,\n",
    "    \"price\": 10,\n",
    "    \"max_mips\": 5,\n",
    "}\n",
    "\n",
    "solve_cost_efficiency(cost_efficiency_inputs)"
   ]
  },
  {
   "cell_type": "markdown",
   "id": "c8cf2262",
   "metadata": {},
   "source": [
    "cost_of_running_computer_for_n_secs"
   ]
  },
  {
   "cell_type": "code",
   "execution_count": 8,
   "id": "c03eaa67",
   "metadata": {},
   "outputs": [
    {
     "name": "stdout",
     "output_type": "stream",
     "text": [
      "base_cost - cost_of_running_computer_for_n_secs + cost_per_sec*n_secs*power_consumption_per_sec\n",
      "20.00500 \n"
     ]
    },
    {
     "data": {
      "text/latex": [
       "$\\displaystyle 20.005$"
      ],
      "text/plain": [
       "20.0050000000000"
      ]
     },
     "execution_count": 8,
     "metadata": {},
     "output_type": "execute_result"
    }
   ],
   "source": [
    "from src.formula_utils import ByteConverter, HertzConverter, TimeConverter\n",
    "from src.week1_formulas import solve_cost_of_running_computer_for_n_secs\n",
    "\n",
    "cost_of_running_computer_for_n_secs_inputs = {\n",
    "    # \"cost_of_running_computer_for_n_secs\": 20.005,\n",
    "    \"n_secs\": 5,\n",
    "    \"power_consumption_per_sec\": 0.1,\n",
    "    \"cost_per_sec\": 0.01,\n",
    "    \"base_cost\": 20,\n",
    "}\n",
    "\n",
    "solve_cost_of_running_computer_for_n_secs(cost_of_running_computer_for_n_secs_inputs)"
   ]
  },
  {
   "cell_type": "markdown",
   "id": "a74182b5",
   "metadata": {},
   "source": [
    "max_speedup"
   ]
  },
  {
   "cell_type": "code",
   "execution_count": 9,
   "id": "8d3b63ea",
   "metadata": {},
   "outputs": [
    {
     "name": "stdout",
     "output_type": "stream",
     "text": [
      "-max_speedup + 1/(1 - P)\n",
      "2.00000 \n"
     ]
    },
    {
     "data": {
      "text/latex": [
       "$\\displaystyle 2.0$"
      ],
      "text/plain": [
       "2.00000000000000"
      ]
     },
     "execution_count": 9,
     "metadata": {},
     "output_type": "execute_result"
    }
   ],
   "source": [
    "from src.formula_utils import ByteConverter, HertzConverter, TimeConverter\n",
    "from src.week1_formulas import solve_max_speedup\n",
    "\n",
    "max_speedup_inputs = {\n",
    "    # \"max_speedup\": 2,\n",
    "    \"P\": 0.5,\n",
    "}\n",
    "\n",
    "solve_max_speedup(max_speedup_inputs)"
   ]
  },
  {
   "cell_type": "markdown",
   "id": "5773b79b",
   "metadata": {},
   "source": [
    "true_speedup"
   ]
  },
  {
   "cell_type": "code",
   "execution_count": 14,
   "id": "babb1e57",
   "metadata": {},
   "outputs": [
    {
     "name": "stdout",
     "output_type": "stream",
     "text": [
      "-true_speedup + 1/(-P + P/n + 1)\n",
      "4.00000 \n"
     ]
    },
    {
     "data": {
      "text/latex": [
       "$\\displaystyle 4.0$"
      ],
      "text/plain": [
       "4.00000000000000"
      ]
     },
     "execution_count": 14,
     "metadata": {},
     "output_type": "execute_result"
    }
   ],
   "source": [
    "from src.formula_utils import ByteConverter, HertzConverter, TimeConverter\n",
    "from src.week1_formulas import solve_true_speedup\n",
    "\n",
    "true_speedup_inputs = {\n",
    "    \"true_speedup\": 1.6,\n",
    "    \"P\": 0.5,\n",
    "    # \"n\": 4,\n",
    "}\n",
    "\n",
    "solve_true_speedup(true_speedup_inputs)"
   ]
  },
  {
   "cell_type": "markdown",
   "id": "bd56c20e",
   "metadata": {},
   "source": [
    "gustafsons_law"
   ]
  },
  {
   "cell_type": "code",
   "execution_count": 11,
   "id": "afa7a2ba",
   "metadata": {},
   "outputs": [
    {
     "name": "stdout",
     "output_type": "stream",
     "text": [
      "P*n - P - gustafsons_law + 1\n",
      "4.00000 \n"
     ]
    },
    {
     "data": {
      "text/latex": [
       "$\\displaystyle 4.0$"
      ],
      "text/plain": [
       "4.00000000000000"
      ]
     },
     "execution_count": 11,
     "metadata": {},
     "output_type": "execute_result"
    }
   ],
   "source": [
    "from src.formula_utils import ByteConverter, HertzConverter, TimeConverter\n",
    "from src.week1_formulas import solve_gustafsons_law\n",
    "\n",
    "gustafsons_law_inputs = {\n",
    "    \"gustafsons_law\": 2.5,\n",
    "    \"P\": 0.5,\n",
    "    # \"n\": 4,\n",
    "}\n",
    "\n",
    "solve_gustafsons_law(gustafsons_law_inputs)"
   ]
  },
  {
   "cell_type": "markdown",
   "id": "027bddf9",
   "metadata": {},
   "source": [
    "branch_prediction_saving_time"
   ]
  },
  {
   "cell_type": "code",
   "execution_count": 12,
   "id": "cad7b430",
   "metadata": {},
   "outputs": [
    {
     "name": "stdout",
     "output_type": "stream",
     "text": [
      "-branch_prediction_saving_time + hit_rate*hit_time_avg - miss_rate*miss_time_avg\n",
      "1.00000 \n"
     ]
    },
    {
     "data": {
      "text/latex": [
       "$\\displaystyle 1.0$"
      ],
      "text/plain": [
       "1.00000000000000"
      ]
     },
     "execution_count": 12,
     "metadata": {},
     "output_type": "execute_result"
    }
   ],
   "source": [
    "from src.formula_utils import ByteConverter, HertzConverter, TimeConverter\n",
    "from src.week1_formulas import solve_branch_prediction_saving_time\n",
    "\n",
    "branch_prediction_saving_time_inputs = {\n",
    "    # \"branch_prediction_saving_time\": 1,\n",
    "    \"hit_rate\": 0.6,\n",
    "    \"hit_time_avg\": 3,\n",
    "    \"miss_rate\": 0.4,\n",
    "    \"miss_time_avg\": 2,\n",
    "}\n",
    "\n",
    "solve_branch_prediction_saving_time(branch_prediction_saving_time_inputs)"
   ]
  },
  {
   "cell_type": "markdown",
   "id": "27f6f50e",
   "metadata": {},
   "source": [
    "## week2 formulas"
   ]
  },
  {
   "cell_type": "markdown",
   "id": "d793970b",
   "metadata": {},
   "source": [
    "n_addressable_locations"
   ]
  },
  {
   "cell_type": "code",
   "execution_count": 1,
   "id": "24674e7a",
   "metadata": {},
   "outputs": [
    {
     "name": "stdout",
     "output_type": "stream",
     "text": [
      "2**total_address_lines - n_addressable_locations\n",
      "65536.00000 \n"
     ]
    },
    {
     "data": {
      "text/latex": [
       "$\\displaystyle 65536$"
      ],
      "text/plain": [
       "65536"
      ]
     },
     "execution_count": 1,
     "metadata": {},
     "output_type": "execute_result"
    }
   ],
   "source": [
    "from src.formula_utils import ByteConverter, HertzConverter, TimeConverter\n",
    "from src.week2_formulas import solve_n_addressable_locations\n",
    "\n",
    "n_addressable_locations_inputs = {\n",
    "    # \"n_addressable_locations\": 65536,\n",
    "    \"total_address_lines\": 16,\n",
    "}\n",
    "\n",
    "solve_n_addressable_locations(n_addressable_locations_inputs)"
   ]
  },
  {
   "cell_type": "markdown",
   "id": "463f5375",
   "metadata": {},
   "source": [
    "storage_capacity"
   ]
  },
  {
   "cell_type": "code",
   "execution_count": 2,
   "id": "446a0f01",
   "metadata": {},
   "outputs": [
    {
     "name": "stdout",
     "output_type": "stream",
     "text": [
      "n_addressable_locations*n_data_lines - storage_capacity\n",
      "512.00000 \n"
     ]
    },
    {
     "data": {
      "text/latex": [
       "$\\displaystyle 512$"
      ],
      "text/plain": [
       "512"
      ]
     },
     "execution_count": 2,
     "metadata": {},
     "output_type": "execute_result"
    }
   ],
   "source": [
    "from src.formula_utils import ByteConverter, HertzConverter, TimeConverter\n",
    "from src.week2_formulas import solve_storage_capacity\n",
    "\n",
    "storage_capacity_inputs = {\n",
    "    # \"storage_capacity\": 512,\n",
    "    \"n_addressable_locations\": 16,\n",
    "    \"n_data_lines\": 32,\n",
    "}\n",
    "\n",
    "solve_storage_capacity(storage_capacity_inputs)"
   ]
  },
  {
   "cell_type": "markdown",
   "id": "21c0e440",
   "metadata": {},
   "source": [
    "cycle_time_normal_mode"
   ]
  },
  {
   "cell_type": "code",
   "execution_count": 3,
   "id": "e3e32e99",
   "metadata": {},
   "outputs": [
    {
     "name": "stdout",
     "output_type": "stream",
     "text": [
      "access_time + cas - cycle_time_normal_mode + ras + recovery_cycles\n",
      "5.00000 \n"
     ]
    },
    {
     "data": {
      "text/latex": [
       "$\\displaystyle 5$"
      ],
      "text/plain": [
       "5"
      ]
     },
     "execution_count": 3,
     "metadata": {},
     "output_type": "execute_result"
    }
   ],
   "source": [
    "from src.formula_utils import ByteConverter, HertzConverter, TimeConverter\n",
    "from src.week2_formulas import solve_cycle_time_normal_mode\n",
    "\n",
    "cycle_time_normal_mode_inputs = {\n",
    "    # \"cycle_time_normal_mode\": 5,\n",
    "    \"ras\": 1,\n",
    "    \"cas\": 1,\n",
    "    \"access_time\": 2,\n",
    "    \"recovery_cycles\": 1,\n",
    "}\n",
    "\n",
    "solve_cycle_time_normal_mode(cycle_time_normal_mode_inputs)"
   ]
  },
  {
   "cell_type": "markdown",
   "id": "41fae1f8",
   "metadata": {},
   "source": [
    "cycle_time_n_reads_burst_mode"
   ]
  },
  {
   "cell_type": "code",
   "execution_count": 5,
   "id": "0e832e49",
   "metadata": {},
   "outputs": [
    {
     "name": "stdout",
     "output_type": "stream",
     "text": [
      "cas - cycle_time_n_reads_burst_mode + n*read_time + ras + recovery_cycles + wait_time\n",
      "2.00000 \n"
     ]
    },
    {
     "data": {
      "text/latex": [
       "$\\displaystyle 2$"
      ],
      "text/plain": [
       "2"
      ]
     },
     "execution_count": 5,
     "metadata": {},
     "output_type": "execute_result"
    }
   ],
   "source": [
    "from src.formula_utils import ByteConverter, HertzConverter, TimeConverter\n",
    "from src.week2_formulas import solve_cycle_time_n_reads_burst_mode\n",
    "\n",
    "cycle_time_n_reads_burst_mode_inputs = {\n",
    "    \"cycle_time_n_reads_burst_mode\": 10,\n",
    "    \"ras\": 1,\n",
    "    \"cas\": 1,\n",
    "    \"wait_time\": 1,\n",
    "    \"n\": 5,\n",
    "    \"read_time\": 1,\n",
    "    # \"recovery_cycles\": 2,\n",
    "}\n",
    "\n",
    "solve_cycle_time_n_reads_burst_mode(cycle_time_n_reads_burst_mode_inputs)"
   ]
  },
  {
   "cell_type": "markdown",
   "id": "a099d981",
   "metadata": {},
   "source": [
    "cycle_time_fast_page_mode"
   ]
  },
  {
   "cell_type": "code",
   "execution_count": 6,
   "id": "df81b98a",
   "metadata": {},
   "outputs": [
    {
     "name": "stdout",
     "output_type": "stream",
     "text": [
      "cas*n - cycle_time_fast_page_mode + n*read_time + ras + recovery_cycles + wait_time\n",
      "14.00000 \n"
     ]
    },
    {
     "data": {
      "text/latex": [
       "$\\displaystyle 14$"
      ],
      "text/plain": [
       "14"
      ]
     },
     "execution_count": 6,
     "metadata": {},
     "output_type": "execute_result"
    }
   ],
   "source": [
    "from src.formula_utils import ByteConverter, HertzConverter, TimeConverter\n",
    "from src.week2_formulas import solve_cycle_time_fast_page_mode\n",
    "\n",
    "cycle_time_fast_page_mode_inputs = {\n",
    "    # \"cycle_time_fast_page_mode\": 14,\n",
    "    \"ras\": 1,\n",
    "    \"cas\": 1,\n",
    "    \"wait_time\": 2,\n",
    "    \"n\": 3,\n",
    "    \"read_time\": 1,\n",
    "    \"recovery_cycles\": 5,\n",
    "}\n",
    "\n",
    "solve_cycle_time_fast_page_mode(cycle_time_fast_page_mode_inputs)"
   ]
  },
  {
   "cell_type": "markdown",
   "id": "d4817ab8",
   "metadata": {},
   "source": [
    "cycle_time_mode_mixtures"
   ]
  },
  {
   "cell_type": "code",
   "execution_count": 8,
   "id": "d9d35715",
   "metadata": {},
   "outputs": [
    {
     "name": "stdout",
     "output_type": "stream",
     "text": [
      "cycle_time_mode1*ratio_mode1 + cycle_time_mode2*ratio_mode2 - cycle_time_mode_mixtures\n",
      "2.90000 \n"
     ]
    },
    {
     "data": {
      "text/latex": [
       "$\\displaystyle 2.9$"
      ],
      "text/plain": [
       "2.90000000000000"
      ]
     },
     "execution_count": 8,
     "metadata": {},
     "output_type": "execute_result"
    }
   ],
   "source": [
    "from src.formula_utils import ByteConverter, HertzConverter, TimeConverter\n",
    "from src.week2_formulas import solve_cycle_time_mode_mixtures\n",
    "\n",
    "cycle_time_mode_mixtures_inputs = {\n",
    "    # \"cycle_time_mode_mixtures\": 2.9,\n",
    "    \"cycle_time_mode1\": 3.5,\n",
    "    \"ratio_mode1\": 0.6,\n",
    "    \"cycle_time_mode2\": 2,\n",
    "    \"ratio_mode2\": 0.4,\n",
    "}\n",
    "\n",
    "solve_cycle_time_mode_mixtures(cycle_time_mode_mixtures_inputs)"
   ]
  },
  {
   "cell_type": "markdown",
   "id": "de9d0b88",
   "metadata": {},
   "source": [
    "data_transfer_rate"
   ]
  },
  {
   "cell_type": "code",
   "execution_count": 2,
   "id": "dda6f619",
   "metadata": {},
   "outputs": [
    {
     "name": "stdout",
     "output_type": "stream",
     "text": [
      "bus_width/cycle_time_total - data_transfer_rate\n",
      "800.00000 \n"
     ]
    },
    {
     "data": {
      "text/plain": [
       "800.0"
      ]
     },
     "execution_count": 2,
     "metadata": {},
     "output_type": "execute_result"
    }
   ],
   "source": [
    "from src.formula_utils import ByteConverter, HertzConverter, TimeConverter\n",
    "from src.week2_formulas import solve_data_transfer_rate\n",
    "\n",
    "data_transfer_rate_inputs = {\n",
    "    # \"data_transfer_rate\": 6.4,\n",
    "    \"bus_width\": ByteConverter().convert(32, \"b\", \"B\"),\n",
    "    \"cycle_time_total\": TimeConverter().convert(5, \"ms\", \"s\"),\n",
    "}\n",
    "\n",
    "solve_data_transfer_rate(data_transfer_rate_inputs)"
   ]
  },
  {
   "cell_type": "markdown",
   "id": "2320749c",
   "metadata": {},
   "source": [
    "cache_read_time_avg"
   ]
  },
  {
   "cell_type": "code",
   "execution_count": 10,
   "id": "9c6d85e0",
   "metadata": {},
   "outputs": [
    {
     "name": "stdout",
     "output_type": "stream",
     "text": [
      "cache_hit_rate*cache_hit_time_avg + cache_miss_rate*cache_miss_time_avg - cache_read_time_avg\n",
      "1.60000 \n"
     ]
    },
    {
     "data": {
      "text/latex": [
       "$\\displaystyle 1.6$"
      ],
      "text/plain": [
       "1.60000000000000"
      ]
     },
     "execution_count": 10,
     "metadata": {},
     "output_type": "execute_result"
    }
   ],
   "source": [
    "from src.formula_utils import ByteConverter, HertzConverter, TimeConverter\n",
    "from src.week2_formulas import solve_cache_read_time_avg\n",
    "\n",
    "cache_read_time_avg_inputs = {\n",
    "    # \"cache_read_time_avg\": 1.60000,\n",
    "    \"cache_hit_rate\": 0.9,\n",
    "    \"cache_hit_time_avg\": 1,\n",
    "    \"cache_miss_rate\": 0.1,\n",
    "    \"cache_miss_time_avg\": 7,\n",
    "}\n",
    "\n",
    "solve_cache_read_time_avg(cache_read_time_avg_inputs)"
   ]
  },
  {
   "cell_type": "markdown",
   "id": "034a2a10",
   "metadata": {},
   "source": [
    "cache_miss_time_avg"
   ]
  },
  {
   "cell_type": "code",
   "execution_count": 12,
   "id": "94071aa2",
   "metadata": {},
   "outputs": [
    {
     "name": "stdout",
     "output_type": "stream",
     "text": [
      "cache_hit_time_avg - cache_miss_time_avg + main_memory_read_time\n",
      "7.00000 \n"
     ]
    },
    {
     "data": {
      "text/latex": [
       "$\\displaystyle 7$"
      ],
      "text/plain": [
       "7"
      ]
     },
     "execution_count": 12,
     "metadata": {},
     "output_type": "execute_result"
    }
   ],
   "source": [
    "from src.formula_utils import ByteConverter, HertzConverter, TimeConverter\n",
    "from src.week2_formulas import solve_cache_miss_time_avg\n",
    "\n",
    "cache_miss_time_avg_inputs = {\n",
    "    # \"cache_miss_time_avg\": 7,\n",
    "    \"cache_hit_time_avg\": 1,\n",
    "    \"main_memory_read_time\": 6,\n",
    "}\n",
    "\n",
    "solve_cache_miss_time_avg(cache_miss_time_avg_inputs)"
   ]
  },
  {
   "cell_type": "markdown",
   "id": "4281c5b1",
   "metadata": {},
   "source": [
    "cycle_time_sec"
   ]
  },
  {
   "cell_type": "code",
   "execution_count": 4,
   "id": "aa563ca6",
   "metadata": {},
   "outputs": [
    {
     "name": "stdout",
     "output_type": "stream",
     "text": [
      "-cycle_time_sec + n_clock_cycles/clock_freq\n",
      "0.00004 \n"
     ]
    },
    {
     "data": {
      "text/plain": [
       "0.036"
      ]
     },
     "execution_count": 4,
     "metadata": {},
     "output_type": "execute_result"
    }
   ],
   "source": [
    "from src.formula_utils import ByteConverter, HertzConverter, TimeConverter\n",
    "from src.week2_formulas import solve_cycle_time_sec\n",
    "\n",
    "cycle_time_sec_inputs = {\n",
    "    # \"cycle_time_sec\": 3.6,\n",
    "    \"n_clock_cycles\": 7200,\n",
    "    \"clock_freq\": HertzConverter().convert(200, \"MHz\", \"Hz\"),\n",
    "}\n",
    "\n",
    "TimeConverter().convert(solve_cycle_time_sec(cycle_time_sec_inputs), \"s\", \"ms\")"
   ]
  },
  {
   "cell_type": "markdown",
   "id": "7f46d8ac",
   "metadata": {},
   "source": [
    "time_speedup"
   ]
  },
  {
   "cell_type": "code",
   "execution_count": 17,
   "id": "c0f69750",
   "metadata": {},
   "outputs": [
    {
     "name": "stdout",
     "output_type": "stream",
     "text": [
      "-time_speedup + time_original/time_new\n",
      "2.00000 \n"
     ]
    },
    {
     "data": {
      "text/latex": [
       "$\\displaystyle 2$"
      ],
      "text/plain": [
       "2"
      ]
     },
     "execution_count": 17,
     "metadata": {},
     "output_type": "execute_result"
    }
   ],
   "source": [
    "from src.formula_utils import ByteConverter, HertzConverter, TimeConverter\n",
    "from src.week2_formulas import solve_time_speedup\n",
    "\n",
    "time_speedup_inputs = {\n",
    "    # \"time_speedup\": 2,\n",
    "    \"time_original\": 4,\n",
    "    \"time_new\": 2,\n",
    "}\n",
    "\n",
    "solve_time_speedup(time_speedup_inputs)"
   ]
  },
  {
   "cell_type": "markdown",
   "id": "becc7c8a",
   "metadata": {},
   "source": [
    "## week3 formulas"
   ]
  },
  {
   "cell_type": "markdown",
   "id": "e70473b5",
   "metadata": {},
   "source": [
    "cycles_total"
   ]
  },
  {
   "cell_type": "code",
   "execution_count": 1,
   "id": "17c26057",
   "metadata": {},
   "outputs": [
    {
     "name": "stdout",
     "output_type": "stream",
     "text": [
      "cycles_overhead + cycles_payload - cycles_total\n",
      "9.00000 \n"
     ]
    },
    {
     "data": {
      "text/plain": [
       "9.0"
      ]
     },
     "execution_count": 1,
     "metadata": {},
     "output_type": "execute_result"
    }
   ],
   "source": [
    "from src.formula_utils import ByteConverter, HertzConverter, TimeConverter\n",
    "from src.week3_formulas import solve_cycles_total\n",
    "\n",
    "cycles_total_inputs = {\n",
    "    # \"cycles_total\": 9,\n",
    "    \"cycles_payload\": 5,\n",
    "    \"cycles_overhead\": 4,\n",
    "}\n",
    "\n",
    "solve_cycles_total(cycles_total_inputs)"
   ]
  },
  {
   "cell_type": "markdown",
   "id": "8b028c5d",
   "metadata": {},
   "source": [
    "bus_data_transfer_rate"
   ]
  },
  {
   "cell_type": "code",
   "execution_count": 2,
   "id": "a27a5d0e",
   "metadata": {},
   "outputs": [
    {
     "name": "stdout",
     "output_type": "stream",
     "text": [
      "amount_of_data*bus_freq/cycles_total - bus_data_transfer_rate\n",
      "160000000.00000 \n"
     ]
    },
    {
     "data": {
      "text/plain": [
       "160000000.0"
      ]
     },
     "execution_count": 2,
     "metadata": {},
     "output_type": "execute_result"
    }
   ],
   "source": [
    "from src.formula_utils import ByteConverter, HertzConverter, TimeConverter\n",
    "from src.week3_formulas import solve_bus_data_transfer_rate\n",
    "\n",
    "bus_data_transfer_rate_inputs = {\n",
    "    # \"bus_data_transfer_rate\": 160000000.,\n",
    "    \"bus_freq\": HertzConverter().convert(200, \"MHz\", \"Hz\"),\n",
    "    \"amount_of_data\": ByteConverter().convert(32, \"b\", \"B\"),\n",
    "    \"cycles_total\": 5,\n",
    "}\n",
    "\n",
    "solve_bus_data_transfer_rate(bus_data_transfer_rate_inputs)"
   ]
  },
  {
   "cell_type": "markdown",
   "id": "bb4cb1c7",
   "metadata": {},
   "source": [
    "cycles_block"
   ]
  },
  {
   "cell_type": "code",
   "execution_count": 3,
   "id": "a596c77e",
   "metadata": {},
   "outputs": [
    {
     "name": "stdout",
     "output_type": "stream",
     "text": [
      "-cycles_block + size_block/size_bus_width\n",
      "16.00000 \n"
     ]
    },
    {
     "data": {
      "text/plain": [
       "16.0"
      ]
     },
     "execution_count": 3,
     "metadata": {},
     "output_type": "execute_result"
    }
   ],
   "source": [
    "from src.formula_utils import ByteConverter, HertzConverter, TimeConverter\n",
    "from src.week3_formulas import solve_cycles_block\n",
    "\n",
    "cycles_block_inputs = {\n",
    "    # \"cycles_block\": 16.00000,\n",
    "    \"size_block\": ByteConverter().convert(256, \"b\", \"B\"),\n",
    "    \"size_bus_width\": ByteConverter().convert(16, \"b\", \"B\"),\n",
    "}\n",
    "\n",
    "solve_cycles_block(cycles_block_inputs)"
   ]
  },
  {
   "cell_type": "markdown",
   "id": "86543a80",
   "metadata": {},
   "source": [
    "bus_data_transfer_efficiency"
   ]
  },
  {
   "cell_type": "code",
   "execution_count": 1,
   "id": "292c033a",
   "metadata": {},
   "outputs": [
    {
     "name": "stdout",
     "output_type": "stream",
     "text": [
      "-bus_data_transfer_efficiency + 100*cycles_block/(cycles_block + cycles_overhead)\n",
      "60.00000 %\n"
     ]
    },
    {
     "data": {
      "text/plain": [
       "60.0"
      ]
     },
     "execution_count": 1,
     "metadata": {},
     "output_type": "execute_result"
    }
   ],
   "source": [
    "from src.formula_utils import ByteConverter, HertzConverter, TimeConverter\n",
    "from src.week3_formulas import solve_bus_data_transfer_efficiency\n",
    "\n",
    "bus_data_transfer_efficiency_inputs = {\n",
    "    # \"bus_data_transfer_efficiency\": 50.00,\n",
    "    \"cycles_block\": 6,\n",
    "    \"cycles_overhead\": 4,\n",
    "}\n",
    "\n",
    "solve_bus_data_transfer_efficiency(bus_data_transfer_efficiency_inputs)"
   ]
  },
  {
   "cell_type": "markdown",
   "id": "c50aa96d",
   "metadata": {},
   "source": [
    "read_time_synchronous"
   ]
  },
  {
   "cell_type": "code",
   "execution_count": 5,
   "id": "6607ba01",
   "metadata": {},
   "outputs": [
    {
     "name": "stdout",
     "output_type": "stream",
     "text": [
      "-read_time_synchronous + time_memory_access + time_send_address + time_send_data\n",
      "0.00016 \n"
     ]
    },
    {
     "data": {
      "text/plain": [
       "0.16"
      ]
     },
     "execution_count": 5,
     "metadata": {},
     "output_type": "execute_result"
    }
   ],
   "source": [
    "from src.formula_utils import ByteConverter, HertzConverter, TimeConverter\n",
    "from src.week3_formulas import solve_read_time_synchronous\n",
    "\n",
    "read_time_synchronous_inputs = {\n",
    "    # \"read_time_synchronous\": TimeConverter().convert(0.00016, \"s\", \"s\"),\n",
    "    \"time_send_address\": TimeConverter().convert(20, \"µs\", \"s\"),\n",
    "    \"time_memory_access\": TimeConverter().convert(20, \"µs\", \"s\"),\n",
    "    \"time_send_data\": TimeConverter().convert(120, \"µs\", \"s\"),\n",
    "}\n",
    "\n",
    "TimeConverter().convert(\n",
    "    solve_read_time_synchronous(read_time_synchronous_inputs), \"s\", \"ms\"\n",
    ")"
   ]
  },
  {
   "cell_type": "markdown",
   "id": "069b48f1",
   "metadata": {},
   "source": [
    "read_time_asynchronous"
   ]
  },
  {
   "cell_type": "code",
   "execution_count": 1,
   "id": "ed3c07c2",
   "metadata": {},
   "outputs": [
    {
     "name": "stdout",
     "output_type": "stream",
     "text": [
      "-read_time_asynchronous + 4*time_handshake + Max(3*time_handshake, time_memory_access)\n",
      "0.00020 \n"
     ]
    },
    {
     "data": {
      "text/plain": [
       "0.0002"
      ]
     },
     "execution_count": 1,
     "metadata": {},
     "output_type": "execute_result"
    }
   ],
   "source": [
    "from src.formula_utils import ByteConverter, HertzConverter, TimeConverter\n",
    "from src.week3_formulas import solve_read_time_asynchronous\n",
    "\n",
    "read_time_asynchronous_inputs = {\n",
    "    # \"read_time_asynchronous\": TimeConverter().convert(0.0002, \"s\", \"s\"),\n",
    "    \"time_handshake\": TimeConverter().convert(20, \"µs\", \"s\"),\n",
    "    \"time_memory_access\": TimeConverter().convert(120, \"µs\", \"s\"),\n",
    "}\n",
    "\n",
    "solve_read_time_asynchronous(read_time_asynchronous_inputs)"
   ]
  },
  {
   "cell_type": "markdown",
   "id": "23001735",
   "metadata": {},
   "source": [
    "bandwidth_max_for_bus"
   ]
  },
  {
   "cell_type": "code",
   "execution_count": 4,
   "id": "a468abad",
   "metadata": {},
   "outputs": [
    {
     "name": "stdout",
     "output_type": "stream",
     "text": [
      "-bandwidth_max_for_bus + n_bytes_to_transfer/(n_blocks_total*read_time_per_block)\n",
      "40.00000 \n"
     ]
    },
    {
     "data": {
      "text/plain": [
       "40.0"
      ]
     },
     "execution_count": 4,
     "metadata": {},
     "output_type": "execute_result"
    }
   ],
   "source": [
    "from src.week3_formulas import solve_bandwidth_max_for_bus\n",
    "from src.formula_utils import ByteConverter, HertzConverter, TimeConverter\n",
    "\n",
    "bandwidth_max_for_bus_inputs = {\n",
    "    # \"bandwidth_max_for_bus\": 40,\n",
    "    \"n_bytes_to_transfer\": ByteConverter().convert(512, \"b\", \"B\"),\n",
    "    \"read_time_per_block\": TimeConverter().convert(100, \"ms\", \"s\"),\n",
    "    \"n_blocks_total\": 16,\n",
    "}\n",
    "\n",
    "solve_bandwidth_max_for_bus(bandwidth_max_for_bus_inputs)"
   ]
  },
  {
   "cell_type": "markdown",
   "id": "b2ca5bf3",
   "metadata": {},
   "source": [
    "disk_revolution_time_sec"
   ]
  },
  {
   "cell_type": "code",
   "execution_count": 6,
   "id": "81077ec2",
   "metadata": {},
   "outputs": [
    {
     "name": "stdout",
     "output_type": "stream",
     "text": [
      "-disk_revolution_time_sec + 60/rotations_per_min\n",
      "0.03000 \n"
     ]
    },
    {
     "data": {
      "text/plain": [
       "0.03"
      ]
     },
     "execution_count": 6,
     "metadata": {},
     "output_type": "execute_result"
    }
   ],
   "source": [
    "from src.formula_utils import ByteConverter, HertzConverter, TimeConverter\n",
    "from src.week3_formulas import solve_disk_revolution_time_sec\n",
    "\n",
    "disk_revolution_time_sec_inputs = {\n",
    "    # \"disk_revolution_time_sec\": ,\n",
    "    \"rotations_per_min\": 2000,\n",
    "}\n",
    "\n",
    "solve_disk_revolution_time_sec(disk_revolution_time_sec_inputs)"
   ]
  },
  {
   "cell_type": "markdown",
   "id": "c0777264",
   "metadata": {},
   "source": [
    "disk_access_time_worst"
   ]
  },
  {
   "cell_type": "code",
   "execution_count": 8,
   "id": "204c32b7",
   "metadata": {},
   "outputs": [
    {
     "name": "stdout",
     "output_type": "stream",
     "text": [
      "-disk_access_time_worst + time_head_seek + time_rotational_latency\n",
      "0.13000 \n"
     ]
    },
    {
     "data": {
      "text/plain": [
       "0.13"
      ]
     },
     "execution_count": 8,
     "metadata": {},
     "output_type": "execute_result"
    }
   ],
   "source": [
    "from src.formula_utils import ByteConverter, HertzConverter, TimeConverter\n",
    "from src.week3_formulas import solve_disk_access_time_worst\n",
    "\n",
    "disk_access_time_worst_inputs = {\n",
    "    # \"disk_access_time_worst\": TimeConverter().convert(0.13, \"s\", \"s\"),\n",
    "    \"time_rotational_latency\": TimeConverter().convert(120, \"ms\", \"s\"),\n",
    "    \"time_head_seek\": TimeConverter().convert(10, \"ms\", \"s\"),\n",
    "}\n",
    "\n",
    "\n",
    "solve_disk_access_time_worst(disk_access_time_worst_inputs)"
   ]
  },
  {
   "cell_type": "markdown",
   "id": "f5f7900c",
   "metadata": {},
   "source": [
    "disk_access_time_avg"
   ]
  },
  {
   "cell_type": "code",
   "execution_count": 11,
   "id": "e7318c7f",
   "metadata": {},
   "outputs": [
    {
     "name": "stdout",
     "output_type": "stream",
     "text": [
      "-disk_access_time_avg + disk_access_time_worst/2\n",
      "0.00500 \n"
     ]
    },
    {
     "data": {
      "text/plain": [
       "0.005"
      ]
     },
     "execution_count": 11,
     "metadata": {},
     "output_type": "execute_result"
    }
   ],
   "source": [
    "from src.formula_utils import ByteConverter, HertzConverter, TimeConverter\n",
    "from src.week3_formulas import solve_disk_access_time_avg\n",
    "\n",
    "disk_access_time_avg_inputs = {\n",
    "    # \"disk_access_time_avg\": TimeConverter().convert(0.00500 , \"s\", \"s\"),\n",
    "    \"disk_access_time_worst\": TimeConverter().convert(10, \"ms\", \"s\"),\n",
    "}\n",
    "\n",
    "solve_disk_access_time_avg(disk_access_time_avg_inputs)"
   ]
  },
  {
   "cell_type": "markdown",
   "id": "bd7353a9",
   "metadata": {},
   "source": [
    "track_size"
   ]
  },
  {
   "cell_type": "code",
   "execution_count": 14,
   "id": "15f9e07e",
   "metadata": {},
   "outputs": [
    {
     "name": "stdout",
     "output_type": "stream",
     "text": [
      "sector_size*sectors_per_track - track_size\n",
      "64.00000 \n"
     ]
    },
    {
     "data": {
      "text/plain": [
       "64.0"
      ]
     },
     "execution_count": 14,
     "metadata": {},
     "output_type": "execute_result"
    }
   ],
   "source": [
    "from src.formula_utils import ByteConverter, HertzConverter, TimeConverter\n",
    "from src.week3_formulas import solve_track_size\n",
    "\n",
    "track_size_inputs = {\n",
    "    # \"track_size\": 64,\n",
    "    \"sector_size\": 4,\n",
    "    \"sectors_per_track\": 16,\n",
    "}\n",
    "\n",
    "solve_track_size(track_size_inputs)"
   ]
  },
  {
   "cell_type": "markdown",
   "id": "c7629574",
   "metadata": {},
   "source": [
    "data_transfer_rate_disk"
   ]
  },
  {
   "cell_type": "code",
   "execution_count": 15,
   "id": "af439637",
   "metadata": {},
   "outputs": [
    {
     "name": "stdout",
     "output_type": "stream",
     "text": [
      "-data_transfer_rate_disk + rotations_per_sec*track_size\n",
      "460800.00000 \n"
     ]
    },
    {
     "data": {
      "text/plain": [
       "460800.0"
      ]
     },
     "execution_count": 15,
     "metadata": {},
     "output_type": "execute_result"
    }
   ],
   "source": [
    "from src.formula_utils import ByteConverter, HertzConverter, TimeConverter\n",
    "from src.week3_formulas import solve_data_transfer_rate_disk\n",
    "\n",
    "data_transfer_rate_disk_inputs = {\n",
    "    # \"data_transfer_rate_disk\": 460800.00000,\n",
    "    \"track_size\": 64,\n",
    "    \"rotations_per_sec\": 7200,\n",
    "}\n",
    "\n",
    "solve_data_transfer_rate_disk(data_transfer_rate_disk_inputs)"
   ]
  },
  {
   "cell_type": "markdown",
   "id": "1ee7da91",
   "metadata": {},
   "source": [
    "## week4 formulas"
   ]
  },
  {
   "cell_type": "markdown",
   "id": "d8b17955",
   "metadata": {},
   "source": [
    "performance_gain_from_hyperthreading"
   ]
  },
  {
   "cell_type": "code",
   "execution_count": 1,
   "id": "b6dfbfd2",
   "metadata": {},
   "outputs": [
    {
     "name": "stdout",
     "output_type": "stream",
     "text": [
      "k_ways_of_hyperthreading*n_cores - performance_gain_from_hyperthreading\n",
      "64.00000 \n"
     ]
    },
    {
     "data": {
      "text/plain": [
       "64.0"
      ]
     },
     "execution_count": 1,
     "metadata": {},
     "output_type": "execute_result"
    }
   ],
   "source": [
    "from src.formula_utils import ByteConverter, HertzConverter, TimeConverter\n",
    "from src.week4_formulas import solve_performance_gain_from_hyperthreading\n",
    "\n",
    "performance_gain_from_hyperthreading_inputs = {\n",
    "    # \"performance_gain_from_hyperthreading\": 64,\n",
    "    \"n_cores\": 16,\n",
    "    \"k_ways_of_hyperthreading\": 4,\n",
    "}\n",
    "\n",
    "solve_performance_gain_from_hyperthreading(performance_gain_from_hyperthreading_inputs)"
   ]
  },
  {
   "cell_type": "markdown",
   "id": "4daffe16",
   "metadata": {},
   "source": [
    "cpu_time_pct_thread"
   ]
  },
  {
   "cell_type": "code",
   "execution_count": 3,
   "id": "a143b1f4",
   "metadata": {},
   "outputs": [
    {
     "name": "stdout",
     "output_type": "stream",
     "text": [
      "-cpu_time_pct_thread + 100*total_time_slice_thread/(switch_time_thread + total_time_slice_thread)\n",
      "90.00000 \n"
     ]
    },
    {
     "data": {
      "text/plain": [
       "90.0"
      ]
     },
     "execution_count": 3,
     "metadata": {},
     "output_type": "execute_result"
    }
   ],
   "source": [
    "from src.formula_utils import ByteConverter, HertzConverter, TimeConverter\n",
    "from src.week4_formulas import solve_cpu_time_pct_thread\n",
    "\n",
    "cpu_time_pct_thread_inputs = {\n",
    "    # \"cpu_time_pct_thread\": 90,\n",
    "    \"total_time_slice_thread\": TimeConverter().convert(90, \"ms\", \"s\"),\n",
    "    \"switch_time_thread\": TimeConverter().convert(10, \"ms\", \"s\"),\n",
    "}\n",
    "\n",
    "solve_cpu_time_pct_thread(cpu_time_pct_thread_inputs)"
   ]
  },
  {
   "cell_type": "markdown",
   "id": "b4ae1315",
   "metadata": {},
   "source": [
    "time_interval_between_repetitions"
   ]
  },
  {
   "cell_type": "code",
   "execution_count": 5,
   "id": "6b3221b7",
   "metadata": {},
   "outputs": [
    {
     "name": "stdout",
     "output_type": "stream",
     "text": [
      "n_tasks*(switch_time_thread + total_time_slice_thread) - time_interval_between_repetitions\n",
      "0.30000 \n"
     ]
    },
    {
     "data": {
      "text/plain": [
       "0.3"
      ]
     },
     "execution_count": 5,
     "metadata": {},
     "output_type": "execute_result"
    }
   ],
   "source": [
    "from src.formula_utils import ByteConverter, HertzConverter, TimeConverter\n",
    "from src.week4_formulas import solve_time_interval_between_repetitions\n",
    "\n",
    "time_interval_between_repetitions_inputs = {\n",
    "    # \"time_interval_between_repetitions\": TimeConverter().convert(0.3, \"s\", \"s\"),\n",
    "    \"total_time_slice_thread\": TimeConverter().convert(90, \"ms\", \"s\"),\n",
    "    \"switch_time_thread\": TimeConverter().convert(10, \"ms\", \"s\"),\n",
    "    \"n_tasks\": 3,\n",
    "}\n",
    "\n",
    "solve_time_interval_between_repetitions(time_interval_between_repetitions_inputs)"
   ]
  },
  {
   "cell_type": "markdown",
   "id": "d02e0ffa",
   "metadata": {},
   "source": [
    "repetition_freq"
   ]
  },
  {
   "cell_type": "code",
   "execution_count": 9,
   "id": "bd650152",
   "metadata": {},
   "outputs": [
    {
     "name": "stdout",
     "output_type": "stream",
     "text": [
      "-repetition_freq + 1/time_interval_between_repetitions\n",
      "100.00000 \n"
     ]
    },
    {
     "data": {
      "text/plain": [
       "100.0"
      ]
     },
     "execution_count": 9,
     "metadata": {},
     "output_type": "execute_result"
    }
   ],
   "source": [
    "from src.formula_utils import ByteConverter, HertzConverter, TimeConverter\n",
    "from src.week4_formulas import solve_repetition_freq\n",
    "\n",
    "repetition_freq_inputs = {\n",
    "    # \"repetition_freq\": HertzConverter().convert(100, \"MHz\", \"Hz\"),\n",
    "    \"time_interval_between_repetitions\": TimeConverter().convert(10, \"ms\", \"s\"),\n",
    "}\n",
    "\n",
    "HertzConverter().convert(solve_repetition_freq(repetition_freq_inputs), \"Hz\", \"Hz\")"
   ]
  },
  {
   "cell_type": "markdown",
   "id": "4b43f923",
   "metadata": {},
   "source": [
    "## week5 formulas"
   ]
  },
  {
   "cell_type": "markdown",
   "id": "0e8a1272",
   "metadata": {},
   "source": [
    "compression_ratio"
   ]
  },
  {
   "cell_type": "code",
   "execution_count": 1,
   "id": "93a6cb57",
   "metadata": {},
   "outputs": [
    {
     "name": "stdout",
     "output_type": "stream",
     "text": [
      "-compression_ratio + original_size/compressed_size\n",
      "2.00000 \n"
     ]
    },
    {
     "data": {
      "text/plain": [
       "2.0"
      ]
     },
     "execution_count": 1,
     "metadata": {},
     "output_type": "execute_result"
    }
   ],
   "source": [
    "from src.formula_utils import ByteConverter, HertzConverter, TimeConverter\n",
    "from src.week5_formulas import solve_compression_ratio\n",
    "\n",
    "compression_ratio_inputs = {\n",
    "    # \"compression_ratio\": 2,\n",
    "    \"original_size\": ByteConverter().convert(200, \"MB\", \"B\"),\n",
    "    \"compressed_size\": ByteConverter().convert(100, \"MB\", \"B\"),\n",
    "}\n",
    "\n",
    "solve_compression_ratio(compression_ratio_inputs)"
   ]
  },
  {
   "cell_type": "markdown",
   "id": "e9fcc32b",
   "metadata": {},
   "source": [
    "## week6 formulas"
   ]
  },
  {
   "cell_type": "markdown",
   "id": "bdca190e",
   "metadata": {},
   "source": [
    "total_network_bandwidth"
   ]
  },
  {
   "cell_type": "code",
   "execution_count": 1,
   "id": "e92ff09f",
   "metadata": {},
   "outputs": [
    {
     "name": "stdout",
     "output_type": "stream",
     "text": [
      "-bridge_bandwidth + 2*raw_bandwidth - total_network_bandwidth\n",
      "390.00000 \n"
     ]
    },
    {
     "data": {
      "text/plain": [
       "390.0"
      ]
     },
     "execution_count": 1,
     "metadata": {},
     "output_type": "execute_result"
    }
   ],
   "source": [
    "from src.formula_utils import ByteConverter, HertzConverter, TimeConverter\n",
    "from src.week6_formulas import solve_total_network_bandwidth\n",
    "\n",
    "total_network_bandwidth_inputs = {\n",
    "    # \"total_network_bandwidth\": 390.,\n",
    "    \"raw_bandwidth\": 200,\n",
    "    \"bridge_bandwidth\": 10,\n",
    "}\n",
    "\n",
    "solve_total_network_bandwidth(total_network_bandwidth_inputs)"
   ]
  },
  {
   "cell_type": "markdown",
   "id": "7f5647c0",
   "metadata": {},
   "source": [
    "packet_bytes_total"
   ]
  },
  {
   "cell_type": "code",
   "execution_count": 2,
   "id": "83e71653",
   "metadata": {},
   "outputs": [
    {
     "name": "stdout",
     "output_type": "stream",
     "text": [
      "packet_bytes_overhead + packet_bytes_payload - packet_bytes_total\n",
      "200.00000 \n"
     ]
    },
    {
     "data": {
      "text/plain": [
       "200.0"
      ]
     },
     "execution_count": 2,
     "metadata": {},
     "output_type": "execute_result"
    }
   ],
   "source": [
    "from src.formula_utils import ByteConverter, HertzConverter, TimeConverter\n",
    "from src.week6_formulas import solve_packet_bytes_total\n",
    "\n",
    "packet_bytes_total_inputs = {\n",
    "    # \"packet_bytes_total\": ByteConverter().convert(200, \"B\", \"B\"),\n",
    "    \"packet_bytes_payload\": ByteConverter().convert(100, \"B\", \"B\"),\n",
    "    \"packet_bytes_overhead\": ByteConverter().convert(100, \"B\", \"B\"),\n",
    "}\n",
    "\n",
    "solve_packet_bytes_total(packet_bytes_total_inputs)"
   ]
  },
  {
   "cell_type": "markdown",
   "id": "986b47bf",
   "metadata": {},
   "source": [
    "true_data_rate"
   ]
  },
  {
   "cell_type": "code",
   "execution_count": 3,
   "id": "3ec184ce",
   "metadata": {},
   "outputs": [
    {
     "name": "stdout",
     "output_type": "stream",
     "text": [
      "efficiency*raw_data_rate - true_data_rate\n",
      "360.00000 \n"
     ]
    },
    {
     "data": {
      "text/plain": [
       "360.0"
      ]
     },
     "execution_count": 3,
     "metadata": {},
     "output_type": "execute_result"
    }
   ],
   "source": [
    "from src.formula_utils import ByteConverter, HertzConverter, TimeConverter\n",
    "from src.week6_formulas import solve_true_data_rate\n",
    "\n",
    "true_data_rate_inputs = {\n",
    "    # \"true_data_rate\": 360,\n",
    "    \"raw_data_rate\": 600,\n",
    "    \"efficiency\": 0.6,\n",
    "}\n",
    "\n",
    "solve_true_data_rate(true_data_rate_inputs)"
   ]
  },
  {
   "cell_type": "markdown",
   "id": "5095a426",
   "metadata": {},
   "source": [
    "packet_latency"
   ]
  },
  {
   "cell_type": "code",
   "execution_count": 4,
   "id": "e79c4c23",
   "metadata": {},
   "outputs": [
    {
     "name": "stdout",
     "output_type": "stream",
     "text": [
      "-packet_latency + packet_size/raw_data_rate\n",
      "8.00000 \n"
     ]
    },
    {
     "data": {
      "text/plain": [
       "8.0"
      ]
     },
     "execution_count": 4,
     "metadata": {},
     "output_type": "execute_result"
    }
   ],
   "source": [
    "from src.formula_utils import ByteConverter, HertzConverter, TimeConverter\n",
    "from src.week6_formulas import solve_packet_latency\n",
    "\n",
    "packet_latency_inputs = {\n",
    "    # \"packet_latency\": TimeConverter().convert(8, \"s\", \"s\"),\n",
    "    \"packet_size\": ByteConverter().convert(512, \"B\", \"B\"),\n",
    "    \"raw_data_rate\": 64,\n",
    "}\n",
    "\n",
    "solve_packet_latency(packet_latency_inputs)"
   ]
  },
  {
   "cell_type": "markdown",
   "id": "756eeb57",
   "metadata": {},
   "source": [
    "## week7 formulas"
   ]
  },
  {
   "cell_type": "markdown",
   "id": "b58bb730",
   "metadata": {},
   "source": [
    "p_no_failures_in_n_periods"
   ]
  },
  {
   "cell_type": "code",
   "execution_count": 6,
   "id": "aa653a53",
   "metadata": {},
   "outputs": [
    {
     "name": "stdout",
     "output_type": "stream",
     "text": [
      "-p_no_failures_in_n_periods + p_works**n\n",
      "0.98507 \n"
     ]
    },
    {
     "data": {
      "text/plain": [
       "0.985074875"
      ]
     },
     "execution_count": 6,
     "metadata": {},
     "output_type": "execute_result"
    }
   ],
   "source": [
    "from src.formula_utils import ByteConverter, HertzConverter, TimeConverter\n",
    "from src.week7_formulas import solve_p_no_failures_in_n_periods\n",
    "\n",
    "p_no_failures_in_n_periods_inputs = {\n",
    "    # \"p_no_failures_in_n_periods\": 0.9801,\n",
    "    \"p_works\": 0.995,\n",
    "    \"n\": 3,\n",
    "}\n",
    "\n",
    "solve_p_no_failures_in_n_periods(p_no_failures_in_n_periods_inputs)"
   ]
  },
  {
   "cell_type": "markdown",
   "id": "200dc404",
   "metadata": {},
   "source": [
    "p_exactly_1_failure_among_n_drives_in_1_period"
   ]
  },
  {
   "cell_type": "code",
   "execution_count": 8,
   "id": "08e6672d",
   "metadata": {},
   "outputs": [
    {
     "name": "stdout",
     "output_type": "stream",
     "text": [
      "n*p_1_drive_fails_in_1_period*p_1_drive_works_in_1_period**(n - 1) - p_exactly_1_failure_among_n_drives_in_1_period\n",
      "0.00995 \n"
     ]
    },
    {
     "data": {
      "text/plain": [
       "0.00995"
      ]
     },
     "execution_count": 8,
     "metadata": {},
     "output_type": "execute_result"
    }
   ],
   "source": [
    "from src.formula_utils import ByteConverter, HertzConverter, TimeConverter\n",
    "from src.week7_formulas import solve_p_exactly_1_failure_among_n_drives_in_1_period\n",
    "\n",
    "p_exactly_1_failure_among_n_drives_in_1_period_inputs = {\n",
    "    # \"p_exactly_1_failure_among_n_drives_in_1_period\": 0.00399,\n",
    "    \"n\": 2,\n",
    "    \"p_1_drive_fails_in_1_period\": 0.005,\n",
    "    \"p_1_drive_works_in_1_period\": 0.995,\n",
    "}\n",
    "\n",
    "solve_p_exactly_1_failure_among_n_drives_in_1_period(\n",
    "    p_exactly_1_failure_among_n_drives_in_1_period_inputs\n",
    ")"
   ]
  },
  {
   "cell_type": "markdown",
   "id": "28985b89",
   "metadata": {},
   "source": [
    "p_exactly_2_failure_among_n_drives_in_1_period"
   ]
  },
  {
   "cell_type": "code",
   "execution_count": 9,
   "id": "d716307d",
   "metadata": {},
   "outputs": [
    {
     "name": "stdout",
     "output_type": "stream",
     "text": [
      "p_1_drive_fails_in_1_period**2*p_1_drive_works_in_1_period**(n - 2)*(n**2/2 - n/2) - p_exactly_2_failure_among_n_drives_in_1_period\n",
      "0.00002 \n"
     ]
    },
    {
     "data": {
      "text/plain": [
       "2.5e-05"
      ]
     },
     "execution_count": 9,
     "metadata": {},
     "output_type": "execute_result"
    }
   ],
   "source": [
    "from src.formula_utils import ByteConverter, HertzConverter, TimeConverter\n",
    "from src.week7_formulas import solve_p_exactly_2_failure_among_n_drives_in_1_period\n",
    "\n",
    "p_exactly_2_failure_among_n_drives_in_1_period_inputs = {\n",
    "    # \"p_exactly_2_failure_among_n_drives_in_1_period\": 0.0135375,\n",
    "    \"n\": 2,\n",
    "    \"p_1_drive_fails_in_1_period\": 0.005,\n",
    "    \"p_1_drive_works_in_1_period\": 0.995,\n",
    "}\n",
    "\n",
    "solve_p_exactly_2_failure_among_n_drives_in_1_period(\n",
    "    p_exactly_2_failure_among_n_drives_in_1_period_inputs\n",
    ")"
   ]
  },
  {
   "cell_type": "code",
   "execution_count": null,
   "id": "95af694d",
   "metadata": {},
   "outputs": [],
   "source": []
  }
 ],
 "metadata": {
  "kernelspec": {
   "display_name": "base",
   "language": "python",
   "name": "python3"
  },
  "language_info": {
   "codemirror_mode": {
    "name": "ipython",
    "version": 3
   },
   "file_extension": ".py",
   "mimetype": "text/x-python",
   "name": "python",
   "nbconvert_exporter": "python",
   "pygments_lexer": "ipython3",
   "version": "3.11.5"
  }
 },
 "nbformat": 4,
 "nbformat_minor": 5
}
