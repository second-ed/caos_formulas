{
 "cells": [
  {
   "cell_type": "code",
   "execution_count": 3,
   "metadata": {},
   "outputs": [],
   "source": [
    "from src.text_compression import compress_text"
   ]
  },
  {
   "cell_type": "code",
   "execution_count": 5,
   "metadata": {},
   "outputs": [
    {
     "name": "stdout",
     "output_type": "stream",
     "text": [
      "text = FRIENDS-BUY-YOU-FOOD-BUT-BEST-FRIENDS-EAT-YOUR-FOOD\n",
      "encoding_map = {'F': 2, 'O': 3, 'S': 4, 'G': 2}\n",
      "default_bits = 8\n",
      "text_len = 51\n",
      "most_common_chars = ['-', 'O', 'F', 'U', 'D', 'E', 'T', 'R', 'Y', 'S', 'B', 'N', 'I', 'A']\n",
      "lowest_bits = [2, 2, 3, 4]\n",
      "optimised_encoding_map = {'-': 2, 'O': 2, 'F': 3, 'U': 4}\n",
      "no_compression = 408\n",
      "actual_compression = 342\n",
      "optimised_compression = 282\n",
      "char_counts = {'F': 4, 'U': 4, 'O': 6, 'T': 3, 'N': 2, 'D': 4, 'A': 1, 'E': 4, 'R': 3, 'I': 2, '-': 9, 'Y': 3, 'S': 3, 'B': 3}\n"
     ]
    }
   ],
   "source": [
    "text = \"FRIENDS-BUY-YOU-FOOD-BUT-BEST-FRIENDS-EAT-YOUR-FOOD\"\n",
    "\n",
    "encoding_map = {\n",
    "    'F': len(\"00\"),\n",
    "    'O': len(\"100\"),\n",
    "    'S': len(\"1010\"),\n",
    "    'G': len(\"11\"),\n",
    "}\n",
    "\n",
    "_ = compress_text(text, encoding_map)"
   ]
  },
  {
   "cell_type": "code",
   "execution_count": null,
   "metadata": {},
   "outputs": [],
   "source": []
  }
 ],
 "metadata": {
  "kernelspec": {
   "display_name": "base",
   "language": "python",
   "name": "python3"
  },
  "language_info": {
   "codemirror_mode": {
    "name": "ipython",
    "version": 3
   },
   "file_extension": ".py",
   "mimetype": "text/x-python",
   "name": "python",
   "nbconvert_exporter": "python",
   "pygments_lexer": "ipython3",
   "version": "3.11.5"
  }
 },
 "nbformat": 4,
 "nbformat_minor": 2
}
