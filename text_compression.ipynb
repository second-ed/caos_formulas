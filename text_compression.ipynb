{
 "cells": [
  {
   "cell_type": "code",
   "execution_count": 1,
   "metadata": {},
   "outputs": [],
   "source": [
    "from src.text_compression import compress_text"
   ]
  },
  {
   "cell_type": "code",
   "execution_count": 2,
   "metadata": {},
   "outputs": [
    {
     "name": "stdout",
     "output_type": "stream",
     "text": [
      "text = FRIENDS-BUY-YOU-FOOD-BUT-BEST-FRIENDS-EAT-YOUR-FOOD\n",
      "encoding_map = {'F': 2, 'O': 3, 'S': 4, 'G': 2}\n",
      "default_bits = 8\n",
      "text_len = 51\n",
      "encoded_chars_by_freq = ['O', 'F', 'S', 'G']\n",
      "lowest_bits = [2, 2, 3, 4]\n",
      "optimised_encoding_map = {'O': 2, 'F': 2, 'S': 3, 'G': 4}\n",
      "true_optimised_encoding_map = {'-': 2, 'O': 2, 'E': 3, 'D': 4}\n",
      "no_compression = 408\n",
      "actual_compression = 342\n",
      "optimised_compression = 333\n",
      "true_optimised_compression = 282\n",
      "actual_compression_ratio = 1.1929824561403508\n",
      "optimised_compression_ratio = 1.2252252252252251\n",
      "true_optimised_compression_ratio = 1.446808510638298\n",
      "all_chars_by_freq = ['-', 'O', 'E', 'D', 'U', 'F', 'S', 'B', 'R', 'Y', 'T', 'I', 'N', 'A']\n",
      "char_counts = {'E': 4, 'S': 3, 'B': 3, 'A': 1, 'I': 2, 'R': 3, 'D': 4, '-': 9, 'Y': 3, 'T': 3, 'O': 6, 'N': 2, 'U': 4, 'F': 4}\n"
     ]
    }
   ],
   "source": [
    "text = \"FRIENDS-BUY-YOU-FOOD-BUT-BEST-FRIENDS-EAT-YOUR-FOOD\"\n",
    "\n",
    "encoding_map = {\n",
    "    'F': len(\"00\"),\n",
    "    'O': len(\"100\"),\n",
    "    'S': len(\"1010\"),\n",
    "    'G': len(\"11\"),\n",
    "}\n",
    "\n",
    "_ = compress_text(text, encoding_map)"
   ]
  },
  {
   "cell_type": "code",
   "execution_count": 3,
   "metadata": {},
   "outputs": [],
   "source": [
    "def count_compressed_bits(text, default_size, encoding_map) -> int:\n",
    "    total_bits_compressed = 0\n",
    "    for c in text:\n",
    "        if c in encoding_map:\n",
    "            total_bits_compressed += encoding_map[c]\n",
    "        else:\n",
    "            total_bits_compressed += default_size\n",
    "    return total_bits_compressed\n",
    "\n",
    "\n",
    "\n",
    "default_bits = 8\n",
    "\n"
   ]
  },
  {
   "cell_type": "code",
   "execution_count": null,
   "metadata": {},
   "outputs": [],
   "source": []
  },
  {
   "cell_type": "code",
   "execution_count": null,
   "metadata": {},
   "outputs": [],
   "source": []
  }
 ],
 "metadata": {
  "kernelspec": {
   "display_name": "base",
   "language": "python",
   "name": "python3"
  },
  "language_info": {
   "codemirror_mode": {
    "name": "ipython",
    "version": 3
   },
   "file_extension": ".py",
   "mimetype": "text/x-python",
   "name": "python",
   "nbconvert_exporter": "python",
   "pygments_lexer": "ipython3",
   "version": "3.11.5"
  }
 },
 "nbformat": 4,
 "nbformat_minor": 2
}
