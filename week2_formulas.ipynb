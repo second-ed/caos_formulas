{
 "cells": [
  {
   "cell_type": "markdown",
   "id": "d793970b",
   "metadata": {},
   "source": [
    "n_addressable_locations"
   ]
  },
  {
   "cell_type": "code",
   "execution_count": 1,
   "id": "24674e7a",
   "metadata": {},
   "outputs": [
    {
     "name": "stdout",
     "output_type": "stream",
     "text": [
      "2**total_address_lines - n_addressable_locations\n",
      "65536.00000 \n"
     ]
    },
    {
     "data": {
      "text/latex": [
       "$\\displaystyle 65536$"
      ],
      "text/plain": [
       "65536"
      ]
     },
     "execution_count": 1,
     "metadata": {},
     "output_type": "execute_result"
    }
   ],
   "source": [
    "from src.week2_formulas import solve_n_addressable_locations\n",
    "\n",
    "n_addressable_locations_inputs = {\n",
    "    # \"n_addressable_locations\": 65536,\n",
    "    \"total_address_lines\": 16,\n",
    "}\n",
    "\n",
    "solve_n_addressable_locations(n_addressable_locations_inputs)"
   ]
  },
  {
   "cell_type": "markdown",
   "id": "463f5375",
   "metadata": {},
   "source": [
    "storage_capacity"
   ]
  },
  {
   "cell_type": "code",
   "execution_count": 2,
   "id": "446a0f01",
   "metadata": {},
   "outputs": [
    {
     "name": "stdout",
     "output_type": "stream",
     "text": [
      "n_addressable_locations*n_data_lines - storage_capacity\n",
      "512.00000 \n"
     ]
    },
    {
     "data": {
      "text/latex": [
       "$\\displaystyle 512$"
      ],
      "text/plain": [
       "512"
      ]
     },
     "execution_count": 2,
     "metadata": {},
     "output_type": "execute_result"
    }
   ],
   "source": [
    "from src.week2_formulas import solve_storage_capacity\n",
    "\n",
    "storage_capacity_inputs = {\n",
    "    # \"storage_capacity\": 512,\n",
    "    \"n_addressable_locations\": 16,\n",
    "    \"n_data_lines\": 32,\n",
    "}\n",
    "\n",
    "solve_storage_capacity(storage_capacity_inputs)"
   ]
  },
  {
   "cell_type": "markdown",
   "id": "21c0e440",
   "metadata": {},
   "source": [
    "cycle_time_normal_mode"
   ]
  },
  {
   "cell_type": "code",
   "execution_count": 3,
   "id": "e3e32e99",
   "metadata": {},
   "outputs": [
    {
     "name": "stdout",
     "output_type": "stream",
     "text": [
      "access_time + cas - cycle_time_normal_mode + ras + recovery_cycles\n",
      "5.00000 \n"
     ]
    },
    {
     "data": {
      "text/latex": [
       "$\\displaystyle 5$"
      ],
      "text/plain": [
       "5"
      ]
     },
     "execution_count": 3,
     "metadata": {},
     "output_type": "execute_result"
    }
   ],
   "source": [
    "from src.week2_formulas import solve_cycle_time_normal_mode\n",
    "\n",
    "cycle_time_normal_mode_inputs = {\n",
    "    # \"cycle_time_normal_mode\": 5,\n",
    "    \"ras\": 1,\n",
    "    \"cas\": 1,\n",
    "    \"access_time\": 2,\n",
    "    \"recovery_cycles\": 1,\n",
    "}\n",
    "\n",
    "solve_cycle_time_normal_mode(cycle_time_normal_mode_inputs)"
   ]
  },
  {
   "cell_type": "markdown",
   "id": "41fae1f8",
   "metadata": {},
   "source": [
    "cycle_time_n_reads_burst_mode"
   ]
  },
  {
   "cell_type": "code",
   "execution_count": 5,
   "id": "0e832e49",
   "metadata": {},
   "outputs": [
    {
     "name": "stdout",
     "output_type": "stream",
     "text": [
      "cas - cycle_time_n_reads_burst_mode + n*read_time + ras + recovery_cycles + wait_time\n",
      "2.00000 \n"
     ]
    },
    {
     "data": {
      "text/latex": [
       "$\\displaystyle 2$"
      ],
      "text/plain": [
       "2"
      ]
     },
     "execution_count": 5,
     "metadata": {},
     "output_type": "execute_result"
    }
   ],
   "source": [
    "from src.week2_formulas import solve_cycle_time_n_reads_burst_mode\n",
    "\n",
    "cycle_time_n_reads_burst_mode_inputs = {\n",
    "    \"cycle_time_n_reads_burst_mode\": 10,\n",
    "    \"ras\": 1,\n",
    "    \"cas\": 1,\n",
    "    \"wait_time\": 1,\n",
    "    \"n\": 5,\n",
    "    \"read_time\": 1,\n",
    "    # \"recovery_cycles\": 2,\n",
    "}\n",
    "\n",
    "solve_cycle_time_n_reads_burst_mode(cycle_time_n_reads_burst_mode_inputs)"
   ]
  },
  {
   "cell_type": "markdown",
   "id": "a099d981",
   "metadata": {},
   "source": [
    "cycle_time_fast_page_mode"
   ]
  },
  {
   "cell_type": "code",
   "execution_count": 6,
   "id": "df81b98a",
   "metadata": {},
   "outputs": [
    {
     "name": "stdout",
     "output_type": "stream",
     "text": [
      "cas*n - cycle_time_fast_page_mode + n*read_time + ras + recovery_cycles + wait_time\n",
      "14.00000 \n"
     ]
    },
    {
     "data": {
      "text/latex": [
       "$\\displaystyle 14$"
      ],
      "text/plain": [
       "14"
      ]
     },
     "execution_count": 6,
     "metadata": {},
     "output_type": "execute_result"
    }
   ],
   "source": [
    "from src.week2_formulas import solve_cycle_time_fast_page_mode\n",
    "\n",
    "cycle_time_fast_page_mode_inputs = {\n",
    "    # \"cycle_time_fast_page_mode\": 14,\n",
    "    \"ras\": 1,\n",
    "    \"cas\": 1,\n",
    "    \"wait_time\": 2,\n",
    "    \"n\": 3,\n",
    "    \"read_time\": 1,\n",
    "    \"recovery_cycles\": 5,\n",
    "}\n",
    "\n",
    "solve_cycle_time_fast_page_mode(cycle_time_fast_page_mode_inputs)"
   ]
  },
  {
   "cell_type": "markdown",
   "id": "d4817ab8",
   "metadata": {},
   "source": [
    "cycle_time_mode_mixtures"
   ]
  },
  {
   "cell_type": "code",
   "execution_count": 8,
   "id": "d9d35715",
   "metadata": {},
   "outputs": [
    {
     "name": "stdout",
     "output_type": "stream",
     "text": [
      "cycle_time_mode1*ratio_mode1 + cycle_time_mode2*ratio_mode2 - cycle_time_mode_mixtures\n",
      "2.90000 \n"
     ]
    },
    {
     "data": {
      "text/latex": [
       "$\\displaystyle 2.9$"
      ],
      "text/plain": [
       "2.90000000000000"
      ]
     },
     "execution_count": 8,
     "metadata": {},
     "output_type": "execute_result"
    }
   ],
   "source": [
    "from src.week2_formulas import solve_cycle_time_mode_mixtures\n",
    "\n",
    "cycle_time_mode_mixtures_inputs = {\n",
    "    # \"cycle_time_mode_mixtures\": 2.9,\n",
    "    \"cycle_time_mode1\": 3.5,\n",
    "    \"ratio_mode1\": 0.6,\n",
    "    \"cycle_time_mode2\": 2,\n",
    "    \"ratio_mode2\": 0.4,\n",
    "}\n",
    "\n",
    "solve_cycle_time_mode_mixtures(cycle_time_mode_mixtures_inputs)"
   ]
  },
  {
   "cell_type": "markdown",
   "id": "de9d0b88",
   "metadata": {},
   "source": [
    "data_transfer_rate"
   ]
  },
  {
   "cell_type": "code",
   "execution_count": 9,
   "id": "dda6f619",
   "metadata": {},
   "outputs": [
    {
     "name": "stdout",
     "output_type": "stream",
     "text": [
      "bus_width/cycle_time_total - data_transfer_rate\n",
      "6.40000 \n"
     ]
    },
    {
     "data": {
      "text/latex": [
       "$\\displaystyle \\frac{32}{5}$"
      ],
      "text/plain": [
       "32/5"
      ]
     },
     "execution_count": 9,
     "metadata": {},
     "output_type": "execute_result"
    }
   ],
   "source": [
    "from src.week2_formulas import solve_data_transfer_rate\n",
    "\n",
    "data_transfer_rate_inputs = {\n",
    "    # \"data_transfer_rate\": 6.4,\n",
    "    \"bus_width\": 32,\n",
    "    \"cycle_time_total\": 5,\n",
    "}\n",
    "\n",
    "solve_data_transfer_rate(data_transfer_rate_inputs)"
   ]
  },
  {
   "cell_type": "markdown",
   "id": "2320749c",
   "metadata": {},
   "source": [
    "cache_read_time_avg"
   ]
  },
  {
   "cell_type": "code",
   "execution_count": 10,
   "id": "9c6d85e0",
   "metadata": {},
   "outputs": [
    {
     "name": "stdout",
     "output_type": "stream",
     "text": [
      "cache_hit_rate*cache_hit_time_avg + cache_miss_rate*cache_miss_time_avg - cache_read_time_avg\n",
      "1.60000 \n"
     ]
    },
    {
     "data": {
      "text/latex": [
       "$\\displaystyle 1.6$"
      ],
      "text/plain": [
       "1.60000000000000"
      ]
     },
     "execution_count": 10,
     "metadata": {},
     "output_type": "execute_result"
    }
   ],
   "source": [
    "from src.week2_formulas import solve_cache_read_time_avg\n",
    "\n",
    "cache_read_time_avg_inputs = {\n",
    "    # \"cache_read_time_avg\": 1.60000,\n",
    "    \"cache_hit_rate\": 0.9,\n",
    "    \"cache_hit_time_avg\": 1,\n",
    "    \"cache_miss_rate\": 0.1,\n",
    "    \"cache_miss_time_avg\": 7,\n",
    "}\n",
    "\n",
    "solve_cache_read_time_avg(cache_read_time_avg_inputs)"
   ]
  },
  {
   "cell_type": "markdown",
   "id": "034a2a10",
   "metadata": {},
   "source": [
    "cache_miss_time_avg"
   ]
  },
  {
   "cell_type": "code",
   "execution_count": 12,
   "id": "94071aa2",
   "metadata": {},
   "outputs": [
    {
     "name": "stdout",
     "output_type": "stream",
     "text": [
      "cache_hit_time_avg - cache_miss_time_avg + main_memory_read_time\n",
      "7.00000 \n"
     ]
    },
    {
     "data": {
      "text/latex": [
       "$\\displaystyle 7$"
      ],
      "text/plain": [
       "7"
      ]
     },
     "execution_count": 12,
     "metadata": {},
     "output_type": "execute_result"
    }
   ],
   "source": [
    "from src.week2_formulas import solve_cache_miss_time_avg\n",
    "\n",
    "cache_miss_time_avg_inputs = {\n",
    "    # \"cache_miss_time_avg\": 7,\n",
    "    \"cache_hit_time_avg\": 1,\n",
    "    \"main_memory_read_time\": 6,\n",
    "}\n",
    "\n",
    "solve_cache_miss_time_avg(cache_miss_time_avg_inputs)"
   ]
  },
  {
   "cell_type": "markdown",
   "id": "4281c5b1",
   "metadata": {},
   "source": [
    "cycle_time_sec"
   ]
  },
  {
   "cell_type": "code",
   "execution_count": 16,
   "id": "aa563ca6",
   "metadata": {},
   "outputs": [
    {
     "name": "stdout",
     "output_type": "stream",
     "text": [
      "-cycle_time_sec + n_clock_cycles/clock_freq\n",
      "3.60000 \n"
     ]
    },
    {
     "data": {
      "text/latex": [
       "$\\displaystyle 3.6$"
      ],
      "text/plain": [
       "3.60000000000000"
      ]
     },
     "execution_count": 16,
     "metadata": {},
     "output_type": "execute_result"
    }
   ],
   "source": [
    "from src.formula_utils import HertzConverter\n",
    "from src.week2_formulas import solve_cycle_time_sec\n",
    "\n",
    "cycle_time_sec_inputs = {\n",
    "    # \"cycle_time_sec\": 3.6,\n",
    "    \"n_clock_cycles\": 720000000,\n",
    "    \"clock_freq\": HertzConverter().convert(200, \"MHz\", \"Hz\"),\n",
    "}\n",
    "\n",
    "solve_cycle_time_sec(cycle_time_sec_inputs)"
   ]
  },
  {
   "cell_type": "markdown",
   "id": "7f46d8ac",
   "metadata": {},
   "source": [
    "time_speedup"
   ]
  },
  {
   "cell_type": "code",
   "execution_count": 17,
   "id": "c0f69750",
   "metadata": {},
   "outputs": [
    {
     "name": "stdout",
     "output_type": "stream",
     "text": [
      "-time_speedup + time_original/time_new\n",
      "2.00000 \n"
     ]
    },
    {
     "data": {
      "text/latex": [
       "$\\displaystyle 2$"
      ],
      "text/plain": [
       "2"
      ]
     },
     "execution_count": 17,
     "metadata": {},
     "output_type": "execute_result"
    }
   ],
   "source": [
    "from src.week2_formulas import solve_time_speedup\n",
    "\n",
    "time_speedup_inputs = {\n",
    "    # \"time_speedup\": 2,\n",
    "    \"time_original\": 4,\n",
    "    \"time_new\": 2,\n",
    "}\n",
    "\n",
    "solve_time_speedup(time_speedup_inputs)"
   ]
  },
  {
   "cell_type": "code",
   "execution_count": null,
   "id": "0df5ab85",
   "metadata": {},
   "outputs": [],
   "source": []
  }
 ],
 "metadata": {
  "kernelspec": {
   "display_name": "base",
   "language": "python",
   "name": "python3"
  },
  "language_info": {
   "codemirror_mode": {
    "name": "ipython",
    "version": 3
   },
   "file_extension": ".py",
   "mimetype": "text/x-python",
   "name": "python",
   "nbconvert_exporter": "python",
   "pygments_lexer": "ipython3",
   "version": "3.11.5"
  }
 },
 "nbformat": 4,
 "nbformat_minor": 5
}
