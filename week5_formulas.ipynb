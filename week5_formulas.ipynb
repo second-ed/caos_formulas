{
 "cells": [
  {
   "cell_type": "markdown",
   "id": "0e8a1272",
   "metadata": {},
   "source": [
    "compression_ratio"
   ]
  },
  {
   "cell_type": "code",
   "execution_count": 1,
   "id": "93a6cb57",
   "metadata": {},
   "outputs": [
    {
     "name": "stdout",
     "output_type": "stream",
     "text": [
      "-compression_ratio + original_size/compressed_size\n",
      "2.00000 \n"
     ]
    },
    {
     "data": {
      "text/plain": [
       "2.0"
      ]
     },
     "execution_count": 1,
     "metadata": {},
     "output_type": "execute_result"
    }
   ],
   "source": [
    "from src.formula_utils import ByteConverter\n",
    "from src.week5_formulas import solve_compression_ratio\n",
    "\n",
    "compression_ratio_inputs = {\n",
    "    # \"compression_ratio\": 2,\n",
    "    \"original_size\": ByteConverter().convert(200, \"MB\", \"B\"),\n",
    "    \"compressed_size\": ByteConverter().convert(100, \"MB\", \"B\"),\n",
    "}\n",
    "\n",
    "solve_compression_ratio(compression_ratio_inputs)"
   ]
  },
  {
   "cell_type": "code",
   "execution_count": null,
   "id": "a062e16e",
   "metadata": {},
   "outputs": [],
   "source": []
  }
 ],
 "metadata": {
  "kernelspec": {
   "display_name": "base",
   "language": "python",
   "name": "python3"
  },
  "language_info": {
   "codemirror_mode": {
    "name": "ipython",
    "version": 3
   },
   "file_extension": ".py",
   "mimetype": "text/x-python",
   "name": "python",
   "nbconvert_exporter": "python",
   "pygments_lexer": "ipython3",
   "version": "3.11.5"
  }
 },
 "nbformat": 4,
 "nbformat_minor": 5
}
