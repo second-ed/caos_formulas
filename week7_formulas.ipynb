{
 "cells": [
  {
   "cell_type": "markdown",
   "id": "b58bb730",
   "metadata": {},
   "source": [
    "p_no_failures_in_n_periods"
   ]
  },
  {
   "cell_type": "code",
   "execution_count": 5,
   "id": "aa653a53",
   "metadata": {},
   "outputs": [
    {
     "name": "stdout",
     "output_type": "stream",
     "text": [
      "-p_no_failures_in_n_periods + p_works**n\n",
      "0.98010 \n"
     ]
    },
    {
     "data": {
      "text/plain": [
       "0.9801"
      ]
     },
     "execution_count": 5,
     "metadata": {},
     "output_type": "execute_result"
    }
   ],
   "source": [
    "from src.week7_formulas import solve_p_no_failures_in_n_periods\n",
    "\n",
    "p_no_failures_in_n_periods_inputs = {\n",
    "    # \"p_no_failures_in_n_periods\": 0.9801,\n",
    "    \"p_works\": 0.99,\n",
    "    \"n\": 2,\n",
    "}\n",
    "\n",
    "solve_p_no_failures_in_n_periods(p_no_failures_in_n_periods_inputs)"
   ]
  },
  {
   "cell_type": "markdown",
   "id": "200dc404",
   "metadata": {},
   "source": [
    "p_exactly_1_failure_among_n_drives_in_1_period"
   ]
  },
  {
   "cell_type": "code",
   "execution_count": 6,
   "id": "08e6672d",
   "metadata": {},
   "outputs": [
    {
     "name": "stdout",
     "output_type": "stream",
     "text": [
      "n*p_1_drive_fails_in_1_period*p_1_drive_works_in_1_period**(n - 1) - p_exactly_1_failure_among_n_drives_in_1_period\n",
      "0.00399 \n"
     ]
    },
    {
     "data": {
      "text/plain": [
       "0.003988011996"
      ]
     },
     "execution_count": 6,
     "metadata": {},
     "output_type": "execute_result"
    }
   ],
   "source": [
    "from src.week7_formulas import solve_p_exactly_1_failure_among_n_drives_in_1_period\n",
    "\n",
    "p_exactly_1_failure_among_n_drives_in_1_period_inputs = {\n",
    "    # \"p_exactly_1_failure_among_n_drives_in_1_period\": 0.00399,\n",
    "    \"n\": 4,\n",
    "    \"p_1_drive_fails_in_1_period\": 0.001,\n",
    "    \"p_1_drive_works_in_1_period\": 0.999,\n",
    "}\n",
    "\n",
    "solve_p_exactly_1_failure_among_n_drives_in_1_period(\n",
    "    p_exactly_1_failure_among_n_drives_in_1_period_inputs\n",
    ")"
   ]
  },
  {
   "cell_type": "markdown",
   "id": "28985b89",
   "metadata": {},
   "source": [
    "p_exactly_2_failure_among_n_drives_in_1_period"
   ]
  },
  {
   "cell_type": "code",
   "execution_count": 9,
   "id": "d716307d",
   "metadata": {},
   "outputs": [
    {
     "name": "stdout",
     "output_type": "stream",
     "text": [
      "p_1_drive_fails_in_1_period**2*p_1_drive_works_in_1_period**(n - 2)*(n**2/2 - n/2) - p_exactly_2_failure_among_n_drives_in_1_period\n",
      "0.01909 \n"
     ]
    },
    {
     "data": {
      "text/plain": [
       "0.01908576"
      ]
     },
     "execution_count": 9,
     "metadata": {},
     "output_type": "execute_result"
    }
   ],
   "source": [
    "from src.week7_formulas import solve_p_exactly_2_failure_among_n_drives_in_1_period\n",
    "\n",
    "p_exactly_2_failure_among_n_drives_in_1_period_inputs = {\n",
    "    # \"p_exactly_2_failure_among_n_drives_in_1_period\": 0.0135375,\n",
    "    \"n\": 4,\n",
    "    \"p_1_drive_fails_in_1_period\": 0.06,\n",
    "    \"p_1_drive_works_in_1_period\": 0.94,\n",
    "}\n",
    "\n",
    "solve_p_exactly_2_failure_among_n_drives_in_1_period(\n",
    "    p_exactly_2_failure_among_n_drives_in_1_period_inputs\n",
    ")"
   ]
  },
  {
   "cell_type": "code",
   "execution_count": null,
   "id": "e1cc66a0",
   "metadata": {},
   "outputs": [],
   "source": []
  }
 ],
 "metadata": {
  "kernelspec": {
   "display_name": "base",
   "language": "python",
   "name": "python3"
  },
  "language_info": {
   "codemirror_mode": {
    "name": "ipython",
    "version": 3
   },
   "file_extension": ".py",
   "mimetype": "text/x-python",
   "name": "python",
   "nbconvert_exporter": "python",
   "pygments_lexer": "ipython3",
   "version": "3.11.5"
  }
 },
 "nbformat": 4,
 "nbformat_minor": 5
}
