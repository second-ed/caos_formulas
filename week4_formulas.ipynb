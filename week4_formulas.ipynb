{
 "cells": [
  {
   "cell_type": "markdown",
   "id": "d8b17955",
   "metadata": {},
   "source": [
    "performance_gain_from_hyperthreading"
   ]
  },
  {
   "cell_type": "code",
   "execution_count": 1,
   "id": "b6dfbfd2",
   "metadata": {},
   "outputs": [
    {
     "name": "stdout",
     "output_type": "stream",
     "text": [
      "k_ways_of_hyperthreading*n_cores - performance_gain_from_hyperthreading\n",
      "64.00000 \n"
     ]
    },
    {
     "data": {
      "text/plain": [
       "64.0"
      ]
     },
     "execution_count": 1,
     "metadata": {},
     "output_type": "execute_result"
    }
   ],
   "source": [
    "from src.week4_formulas import solve_performance_gain_from_hyperthreading\n",
    "\n",
    "performance_gain_from_hyperthreading_inputs = {\n",
    "    # \"performance_gain_from_hyperthreading\": 64,\n",
    "    \"n_cores\": 16,\n",
    "    \"k_ways_of_hyperthreading\": 4,\n",
    "}\n",
    "\n",
    "solve_performance_gain_from_hyperthreading(performance_gain_from_hyperthreading_inputs)"
   ]
  },
  {
   "cell_type": "markdown",
   "id": "4daffe16",
   "metadata": {},
   "source": [
    "cpu_time_pct_thread"
   ]
  },
  {
   "cell_type": "code",
   "execution_count": 3,
   "id": "a143b1f4",
   "metadata": {},
   "outputs": [
    {
     "name": "stdout",
     "output_type": "stream",
     "text": [
      "-cpu_time_pct_thread + 100*total_time_slice_thread/(switch_time_thread + total_time_slice_thread)\n",
      "90.00000 \n"
     ]
    },
    {
     "data": {
      "text/plain": [
       "90.0"
      ]
     },
     "execution_count": 3,
     "metadata": {},
     "output_type": "execute_result"
    }
   ],
   "source": [
    "from src.formula_utils import TimeConverter\n",
    "from src.week4_formulas import solve_cpu_time_pct_thread\n",
    "\n",
    "cpu_time_pct_thread_inputs = {\n",
    "    # \"cpu_time_pct_thread\": 90,\n",
    "    \"total_time_slice_thread\": TimeConverter().convert(90, \"ms\", \"s\"),\n",
    "    \"switch_time_thread\": TimeConverter().convert(10, \"ms\", \"s\"),\n",
    "}\n",
    "\n",
    "solve_cpu_time_pct_thread(cpu_time_pct_thread_inputs)"
   ]
  },
  {
   "cell_type": "markdown",
   "id": "b4ae1315",
   "metadata": {},
   "source": [
    "time_interval_between_repetitions"
   ]
  },
  {
   "cell_type": "code",
   "execution_count": 5,
   "id": "6b3221b7",
   "metadata": {},
   "outputs": [
    {
     "name": "stdout",
     "output_type": "stream",
     "text": [
      "n_tasks*(switch_time_thread + total_time_slice_thread) - time_interval_between_repetitions\n",
      "0.30000 \n"
     ]
    },
    {
     "data": {
      "text/plain": [
       "0.3"
      ]
     },
     "execution_count": 5,
     "metadata": {},
     "output_type": "execute_result"
    }
   ],
   "source": [
    "from src.week4_formulas import solve_time_interval_between_repetitions\n",
    "\n",
    "time_interval_between_repetitions_inputs = {\n",
    "    # \"time_interval_between_repetitions\": TimeConverter().convert(0.3, \"s\", \"s\"),\n",
    "    \"total_time_slice_thread\": TimeConverter().convert(90, \"ms\", \"s\"),\n",
    "    \"switch_time_thread\": TimeConverter().convert(10, \"ms\", \"s\"),\n",
    "    \"n_tasks\": 3,\n",
    "}\n",
    "\n",
    "solve_time_interval_between_repetitions(time_interval_between_repetitions_inputs)"
   ]
  },
  {
   "cell_type": "markdown",
   "id": "d02e0ffa",
   "metadata": {},
   "source": [
    "repetition_freq"
   ]
  },
  {
   "cell_type": "code",
   "execution_count": 9,
   "id": "bd650152",
   "metadata": {},
   "outputs": [
    {
     "name": "stdout",
     "output_type": "stream",
     "text": [
      "-repetition_freq + 1/time_interval_between_repetitions\n",
      "100.00000 \n"
     ]
    },
    {
     "data": {
      "text/plain": [
       "100.0"
      ]
     },
     "execution_count": 9,
     "metadata": {},
     "output_type": "execute_result"
    }
   ],
   "source": [
    "from src.formula_utils import HertzConverter\n",
    "from src.week4_formulas import solve_repetition_freq\n",
    "\n",
    "repetition_freq_inputs = {\n",
    "    # \"repetition_freq\": HertzConverter().convert(100, \"MHz\", \"Hz\"),\n",
    "    \"time_interval_between_repetitions\": TimeConverter().convert(10, \"ms\", \"s\"),\n",
    "}\n",
    "\n",
    "HertzConverter().convert(solve_repetition_freq(repetition_freq_inputs), \"Hz\", \"Hz\")"
   ]
  },
  {
   "cell_type": "code",
   "execution_count": null,
   "id": "c27d8752",
   "metadata": {},
   "outputs": [],
   "source": []
  }
 ],
 "metadata": {
  "kernelspec": {
   "display_name": "base",
   "language": "python",
   "name": "python3"
  },
  "language_info": {
   "codemirror_mode": {
    "name": "ipython",
    "version": 3
   },
   "file_extension": ".py",
   "mimetype": "text/x-python",
   "name": "python",
   "nbconvert_exporter": "python",
   "pygments_lexer": "ipython3",
   "version": "3.11.5"
  }
 },
 "nbformat": 4,
 "nbformat_minor": 5
}
