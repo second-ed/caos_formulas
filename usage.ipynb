{
 "cells": [
  {
   "cell_type": "code",
   "execution_count": 5,
   "metadata": {},
   "outputs": [],
   "source": [
    "import sympy as sp\n",
    "\n",
    "from src.formulas import *"
   ]
  },
  {
   "cell_type": "code",
   "execution_count": 2,
   "metadata": {},
   "outputs": [
    {
     "data": {
      "text/plain": [
       "(100.000000000000, '100.00000 Hz')"
      ]
     },
     "execution_count": 2,
     "metadata": {},
     "output_type": "execute_result"
    }
   ],
   "source": [
    "clock_freq_inputs = {\n",
    "    \"t\": TimeConverter().convert(10, \"ms\", \"s\"),\n",
    "    # \"f\": 100\n",
    "}\n",
    "solve_clock_freq(clock_freq_inputs)"
   ]
  },
  {
   "cell_type": "code",
   "execution_count": 3,
   "metadata": {},
   "outputs": [
    {
     "data": {
      "text/plain": [
       "(0.300699300699301, '0.30070 ')"
      ]
     },
     "execution_count": 3,
     "metadata": {},
     "output_type": "execute_result"
    }
   ],
   "source": [
    "max_speedup_inputs = {\n",
    "    # \"P\": 0.3,\n",
    "    \"max_speedup\": 1.43\n",
    "}\n",
    "solve_max_speedup(max_speedup_inputs)"
   ]
  },
  {
   "cell_type": "code",
   "execution_count": 11,
   "metadata": {},
   "outputs": [
    {
     "data": {
      "text/plain": [
       "(3.00000000000000, '3.00000 ')"
      ]
     },
     "execution_count": 11,
     "metadata": {},
     "output_type": "execute_result"
    }
   ],
   "source": [
    "true_speedup_inputs = {\n",
    "    \"P\": 0.5,\n",
    "    # \"n\": 3,\n",
    "    \"true_speedup\": 1.50,\n",
    "}\n",
    "solve_true_speedup(true_speedup_inputs)"
   ]
  },
  {
   "cell_type": "code",
   "execution_count": 5,
   "metadata": {},
   "outputs": [
    {
     "data": {
      "text/plain": [
       "(2.00000000000000, '2.00000 cycles')"
      ]
     },
     "execution_count": 5,
     "metadata": {},
     "output_type": "execute_result"
    }
   ],
   "source": [
    "branch_pred_inputs = {\n",
    "    \"cycles_saved\": 3,\n",
    "    # \"cycles_cost\": 2,\n",
    "    \"p_correct\": 0.4,\n",
    "    \"p_incorrect\": 0.6,\n",
    "    \"total_savings\": 0,\n",
    "}\n",
    "solve_branch_prediction(branch_pred_inputs)"
   ]
  },
  {
   "cell_type": "code",
   "execution_count": 6,
   "metadata": {},
   "outputs": [
    {
     "data": {
      "text/plain": [
       "(16, '16 bits')"
      ]
     },
     "execution_count": 6,
     "metadata": {},
     "output_type": "execute_result"
    }
   ],
   "source": [
    "address_loc_inputs = {\n",
    "    # \"address_lines\": 16,\n",
    "    \"address_locations\": 65536,\n",
    "}\n",
    "solve_address_locations(address_loc_inputs)"
   ]
  },
  {
   "cell_type": "code",
   "execution_count": 7,
   "metadata": {},
   "outputs": [
    {
     "data": {
      "text/plain": [
       "(32768.0000000000, '32768.00000 MB')"
      ]
     },
     "execution_count": 7,
     "metadata": {},
     "output_type": "execute_result"
    }
   ],
   "source": [
    "storage_cap_inputs = {\"address_lines\": 32, \"data_lines\": 64, \"to_unit\": \"MB\"}\n",
    "\n",
    "solve_storage_capacity(storage_cap_inputs)"
   ]
  },
  {
   "cell_type": "code",
   "execution_count": 8,
   "metadata": {},
   "outputs": [
    {
     "data": {
      "text/plain": [
       "(762.939453125000, '762.93945 MB per second')"
      ]
     },
     "execution_count": 8,
     "metadata": {},
     "output_type": "execute_result"
    }
   ],
   "source": [
    "memory_data_rate_inputs = {\n",
    "    \"memory_read_time\": 5,\n",
    "    \"memory_width\": ByteConverter().convert(32, \"b\", \"B\"),\n",
    "    \"clock_rate\": HertzConverter().convert(1, \"GHz\", \"Hz\"),\n",
    "    # \"memory_data_rate\": ,\n",
    "}\n",
    "\n",
    "solve_memory_data_rate(memory_data_rate_inputs, units=\"MB\")"
   ]
  },
  {
   "cell_type": "code",
   "execution_count": 12,
   "metadata": {},
   "outputs": [
    {
     "data": {
      "text/plain": [
       "(9, '9.00000 ')"
      ]
     },
     "execution_count": 12,
     "metadata": {},
     "output_type": "execute_result"
    }
   ],
   "source": [
    "avg_memory_read_inputs = {\n",
    "    \"access_time\": 5,\n",
    "    \"recovery_cycles\": 2,\n",
    "    \"ras_cycles\": 1,\n",
    "    \"cas_cycles\": 1,\n",
    "}\n",
    "\n",
    "solve_avg_memory_read_time(avg_memory_read_inputs)"
   ]
  },
  {
   "cell_type": "code",
   "execution_count": 9,
   "metadata": {},
   "outputs": [
    {
     "data": {
      "text/plain": [
       "(3.50000000000000, '3.50000 clocks')"
      ]
     },
     "execution_count": 9,
     "metadata": {},
     "output_type": "execute_result"
    }
   ],
   "source": [
    "cache_avg_read_time_inputs = {\n",
    "    \"p_cache\": 0.9,\n",
    "    \"sram\": 1.0,\n",
    "    \"dram\": 3.0,\n",
    "    \"ras\": 1.0,\n",
    "    \"cas\": 1.0,\n",
    "    # \"cache_avg_read_time\": \"clocks\"\n",
    "}\n",
    "\n",
    "solve_cache_avg_read_time(cache_avg_read_time_inputs)"
   ]
  }
 ],
 "metadata": {
  "kernelspec": {
   "display_name": "base",
   "language": "python",
   "name": "python3"
  },
  "language_info": {
   "codemirror_mode": {
    "name": "ipython",
    "version": 3
   },
   "file_extension": ".py",
   "mimetype": "text/x-python",
   "name": "python",
   "nbconvert_exporter": "python",
   "pygments_lexer": "ipython3",
   "version": "3.11.5"
  }
 },
 "nbformat": 4,
 "nbformat_minor": 2
}
