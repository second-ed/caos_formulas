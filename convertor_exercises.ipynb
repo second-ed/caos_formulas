{
 "cells": [
  {
   "cell_type": "code",
   "execution_count": null,
   "metadata": {},
   "outputs": [],
   "source": [
    "from src.binary_hex_convertors import (\n",
    "    num_to_binary,\n",
    "    num_to_hexadecimal,\n",
    "    hexadecimal_to_num,\n",
    "    binary_to_num,\n",
    ")"
   ]
  },
  {
   "cell_type": "code",
   "execution_count": 10,
   "metadata": {},
   "outputs": [
    {
     "name": "stdout",
     "output_type": "stream",
     "text": [
      "1753 % 2 != 0: add 1\n",
      "876 % 2 == 0: add 0\n",
      "438 % 2 == 0: add 0\n",
      "219 % 2 != 0: add 1\n",
      "109 % 2 != 0: add 1\n",
      "54 % 2 == 0: add 0\n",
      "27 % 2 != 0: add 1\n",
      "13 % 2 != 0: add 1\n",
      "6 % 2 == 0: add 0\n",
      "3 % 2 != 0: add 1\n",
      "1 % 2 != 0: add 1\n"
     ]
    },
    {
     "data": {
      "text/plain": [
       "'011011011001'"
      ]
     },
     "execution_count": 10,
     "metadata": {},
     "output_type": "execute_result"
    }
   ],
   "source": [
    "num_to_binary(1753)"
   ]
  },
  {
   "cell_type": "code",
   "execution_count": 11,
   "metadata": {},
   "outputs": [
    {
     "name": "stdout",
     "output_type": "stream",
     "text": [
      "bit == 1: adding 1 (2^0)\n",
      "bit == 0: adding 0\n",
      "bit == 0: adding 0\n",
      "bit == 1: adding 8 (2^3)\n",
      "bit == 1: adding 16 (2^4)\n",
      "bit == 0: adding 0\n",
      "bit == 1: adding 64 (2^6)\n",
      "bit == 1: adding 128 (2^7)\n",
      "bit == 0: adding 0\n",
      "bit == 1: adding 512 (2^9)\n",
      "bit == 1: adding 1024 (2^10)\n",
      "bit == 0: adding 0\n"
     ]
    },
    {
     "data": {
      "text/plain": [
       "1753"
      ]
     },
     "execution_count": 11,
     "metadata": {},
     "output_type": "execute_result"
    }
   ],
   "source": [
    "binary_to_num(\"011011011001\")"
   ]
  },
  {
   "cell_type": "code",
   "execution_count": 14,
   "metadata": {},
   "outputs": [
    {
     "name": "stdout",
     "output_type": "stream",
     "text": [
      "16065 % 16 == 1: add 1\n",
      "1004 % 16 == 12: add C\n",
      "62 % 16 == 14: add E\n",
      "3 % 16 == 3: add 3\n"
     ]
    },
    {
     "data": {
      "text/plain": [
       "'3EC1'"
      ]
     },
     "execution_count": 14,
     "metadata": {},
     "output_type": "execute_result"
    }
   ],
   "source": [
    "num_to_hexadecimal(16065)[2:]"
   ]
  },
  {
   "cell_type": "code",
   "execution_count": null,
   "metadata": {},
   "outputs": [],
   "source": [
    "hexadecimal_to_num(\"7FFFFFFA\")"
   ]
  },
  {
   "cell_type": "code",
   "execution_count": null,
   "metadata": {},
   "outputs": [],
   "source": []
  }
 ],
 "metadata": {
  "kernelspec": {
   "display_name": "base",
   "language": "python",
   "name": "python3"
  },
  "language_info": {
   "codemirror_mode": {
    "name": "ipython",
    "version": 3
   },
   "file_extension": ".py",
   "mimetype": "text/x-python",
   "name": "python",
   "nbconvert_exporter": "python",
   "pygments_lexer": "ipython3",
   "version": "3.11.5"
  }
 },
 "nbformat": 4,
 "nbformat_minor": 2
}
