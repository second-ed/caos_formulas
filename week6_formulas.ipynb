{
 "cells": [
  {
   "cell_type": "markdown",
   "id": "bdca190e",
   "metadata": {},
   "source": [
    "total_network_bandwidth"
   ]
  },
  {
   "cell_type": "code",
   "execution_count": 1,
   "id": "e92ff09f",
   "metadata": {},
   "outputs": [
    {
     "name": "stdout",
     "output_type": "stream",
     "text": [
      "-bridge_bandwidth + 2*raw_bandwidth - total_network_bandwidth\n",
      "390.00000 \n"
     ]
    },
    {
     "data": {
      "text/plain": [
       "390.0"
      ]
     },
     "execution_count": 1,
     "metadata": {},
     "output_type": "execute_result"
    }
   ],
   "source": [
    "from src.week6_formulas import solve_total_network_bandwidth\n",
    "\n",
    "total_network_bandwidth_inputs = {\n",
    "    # \"total_network_bandwidth\": 390.,\n",
    "    \"raw_bandwidth\": 200,\n",
    "    \"bridge_bandwidth\": 10,\n",
    "}\n",
    "\n",
    "solve_total_network_bandwidth(total_network_bandwidth_inputs)"
   ]
  },
  {
   "cell_type": "markdown",
   "id": "7f5647c0",
   "metadata": {},
   "source": [
    "packet_bytes_total"
   ]
  },
  {
   "cell_type": "code",
   "execution_count": 2,
   "id": "83e71653",
   "metadata": {},
   "outputs": [
    {
     "name": "stdout",
     "output_type": "stream",
     "text": [
      "packet_bytes_overhead + packet_bytes_payload - packet_bytes_total\n",
      "200.00000 \n"
     ]
    },
    {
     "data": {
      "text/plain": [
       "200.0"
      ]
     },
     "execution_count": 2,
     "metadata": {},
     "output_type": "execute_result"
    }
   ],
   "source": [
    "from src.formula_utils import ByteConverter\n",
    "from src.week6_formulas import solve_packet_bytes_total\n",
    "\n",
    "packet_bytes_total_inputs = {\n",
    "    # \"packet_bytes_total\": ByteConverter().convert(200, \"B\", \"B\"),\n",
    "    \"packet_bytes_payload\": ByteConverter().convert(100, \"B\", \"B\"),\n",
    "    \"packet_bytes_overhead\": ByteConverter().convert(100, \"B\", \"B\"),\n",
    "}\n",
    "\n",
    "solve_packet_bytes_total(packet_bytes_total_inputs)"
   ]
  },
  {
   "cell_type": "markdown",
   "id": "986b47bf",
   "metadata": {},
   "source": [
    "true_data_rate"
   ]
  },
  {
   "cell_type": "code",
   "execution_count": 6,
   "id": "3ec184ce",
   "metadata": {},
   "outputs": [
    {
     "name": "stdout",
     "output_type": "stream",
     "text": [
      "efficiency*raw_data_rate - true_data_rate\n",
      "360.00000 \n"
     ]
    },
    {
     "data": {
      "text/plain": [
       "360.0"
      ]
     },
     "execution_count": 6,
     "metadata": {},
     "output_type": "execute_result"
    }
   ],
   "source": [
    "from src.week6_formulas import solve_true_data_rate\n",
    "\n",
    "true_data_rate_inputs = {\n",
    "    # \"true_data_rate\": 360,\n",
    "    \"raw_data_rate\": 600,\n",
    "    \"efficiency\": 0.6,\n",
    "}\n",
    "\n",
    "solve_true_data_rate(true_data_rate_inputs)"
   ]
  },
  {
   "cell_type": "markdown",
   "id": "5095a426",
   "metadata": {},
   "source": [
    "packet_latency"
   ]
  },
  {
   "cell_type": "code",
   "execution_count": 7,
   "id": "e79c4c23",
   "metadata": {},
   "outputs": [
    {
     "name": "stdout",
     "output_type": "stream",
     "text": [
      "-packet_latency + packet_size/raw_data_rate\n",
      "8.00000 \n"
     ]
    },
    {
     "data": {
      "text/plain": [
       "8.0"
      ]
     },
     "execution_count": 7,
     "metadata": {},
     "output_type": "execute_result"
    }
   ],
   "source": [
    "from src.week6_formulas import solve_packet_latency\n",
    "\n",
    "packet_latency_inputs = {\n",
    "    # \"packet_latency\": TimeConverter().convert(8, \"s\", \"s\"),\n",
    "    \"packet_size\": ByteConverter().convert(512, \"B\", \"B\"),\n",
    "    \"raw_data_rate\": 64,\n",
    "}\n",
    "\n",
    "solve_packet_latency(packet_latency_inputs)"
   ]
  },
  {
   "cell_type": "code",
   "execution_count": null,
   "id": "f43c9ddf",
   "metadata": {},
   "outputs": [],
   "source": []
  }
 ],
 "metadata": {
  "kernelspec": {
   "display_name": "base",
   "language": "python",
   "name": "python3"
  },
  "language_info": {
   "codemirror_mode": {
    "name": "ipython",
    "version": 3
   },
   "file_extension": ".py",
   "mimetype": "text/x-python",
   "name": "python",
   "nbconvert_exporter": "python",
   "pygments_lexer": "ipython3",
   "version": "3.11.5"
  }
 },
 "nbformat": 4,
 "nbformat_minor": 5
}
